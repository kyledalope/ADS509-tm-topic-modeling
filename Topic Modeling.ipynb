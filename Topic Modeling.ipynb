{
 "cells": [
  {
   "cell_type": "markdown",
   "id": "bce2bb89",
   "metadata": {},
   "source": [
    "# ADS 509 Assignment 5.1: Topic Modeling\n",
    "\n",
    "This notebook holds Assignment 5.1 for Module 5 in ADS 509, Applied Text Mining. Work through this notebook, writing code and answering questions where required. \n",
    "\n",
    "In this assignment you will work with a categorical corpus that accompanies `nltk`. You will build the three types of topic models described in Chapter 8 of _Blueprints for Text Analytics using Python_: NMF, LSA, and LDA. You will compare these models to the true categories. \n"
   ]
  },
  {
   "cell_type": "markdown",
   "id": "d87e2c06",
   "metadata": {},
   "source": [
    "## General Assignment Instructions\n",
    "\n",
    "These instructions are included in every assignment, to remind you of the coding standards for the class. Feel free to delete this cell after reading it. \n",
    "\n",
    "One sign of mature code is conforming to a style guide. We recommend the [Google Python Style Guide](https://google.github.io/styleguide/pyguide.html). If you use a different style guide, please include a cell with a link. \n",
    "\n",
    "Your code should be relatively easy-to-read, sensibly commented, and clean. Writing code is a messy process, so please be sure to edit your final submission. Remove any cells that are not needed or parts of cells that contain unnecessary code. Remove inessential `import` statements and make sure that all such statements are moved into the designated cell. \n",
    "\n",
    "Make use of non-code cells for written commentary. These cells should be grammatical and clearly written. In some of these cells you will have questions to answer. The questions will be marked by a \"Q:\" and will have a corresponding \"A:\" spot for you. *Make sure to answer every question marked with a `Q:` for full credit.* \n"
   ]
  },
  {
   "cell_type": "code",
   "execution_count": 1,
   "id": "853a30b1",
   "metadata": {},
   "outputs": [],
   "source": [
    "#!python -m spacy download en_core_web_sm\n",
    "#python --version\n"
   ]
  },
  {
   "cell_type": "code",
   "execution_count": 2,
   "id": "a85bce08",
   "metadata": {},
   "outputs": [],
   "source": [
    "# These libraries may be useful to you\n",
    "\n",
    "#!pip install pyLDAvis==3.4.1 --user  #You need to restart the Kernel after installation.\n",
    "# You also need a Python version => 3.9.0\n",
    "from nltk.corpus import brown\n",
    "\n",
    "import numpy as np\n",
    "import pandas as pd\n",
    "from tqdm.auto import tqdm\n",
    "\n",
    "import pyLDAvis\n",
    "import pyLDAvis.lda_model\n",
    "import pyLDAvis.gensim_models\n",
    "\n",
    "import spacy\n",
    "from sklearn.feature_extraction.text import TfidfVectorizer, CountVectorizer\n",
    "from sklearn.decomposition import NMF, TruncatedSVD, LatentDirichletAllocation\n",
    "\n",
    "from spacy.lang.en.stop_words import STOP_WORDS as stopwords\n",
    "\n",
    "from collections import Counter, defaultdict\n",
    "\n",
    "nlp = spacy.load('en_core_web_sm')"
   ]
  },
  {
   "cell_type": "code",
   "execution_count": 3,
   "id": "a218df60",
   "metadata": {},
   "outputs": [],
   "source": [
    "# add any additional libaries you need here\n",
    "\n"
   ]
  },
  {
   "cell_type": "code",
   "execution_count": 4,
   "id": "494de237",
   "metadata": {},
   "outputs": [],
   "source": [
    "# This function comes from the BTAP repo.\n",
    "\n",
    "def display_topics(model, features, no_top_words=5):\n",
    "    for topic, words in enumerate(model.components_):\n",
    "        total = words.sum()\n",
    "        largest = words.argsort()[::-1] # invert sort order\n",
    "        print(\"\\nTopic %02d\" % topic)\n",
    "        for i in range(0, no_top_words):\n",
    "            print(\"  %s (%2.2f)\" % (features[largest[i]], abs(words[largest[i]]*100.0/total)))"
   ]
  },
  {
   "cell_type": "markdown",
   "id": "a30a901c",
   "metadata": {},
   "source": [
    "## Getting to Know the Brown Corpus\n",
    "\n",
    "Let's spend a bit of time getting to know what's in the Brown corpus, our NLTK example of an \"overlapping\" corpus."
   ]
  },
  {
   "cell_type": "code",
   "execution_count": 5,
   "id": "457c59ed",
   "metadata": {},
   "outputs": [
    {
     "name": "stdout",
     "output_type": "stream",
     "text": [
      "For adventure we have 29 articles.\n",
      "For belles_lettres we have 75 articles.\n",
      "For editorial we have 27 articles.\n",
      "For fiction we have 29 articles.\n",
      "For government we have 30 articles.\n",
      "For hobbies we have 36 articles.\n",
      "For humor we have 9 articles.\n",
      "For learned we have 80 articles.\n",
      "For lore we have 48 articles.\n",
      "For mystery we have 24 articles.\n",
      "For news we have 44 articles.\n",
      "For religion we have 17 articles.\n",
      "For reviews we have 17 articles.\n",
      "For romance we have 29 articles.\n",
      "For science_fiction we have 6 articles.\n"
     ]
    }
   ],
   "source": [
    "# categories of articles in Brown corpus\n",
    "for category in brown.categories() :\n",
    "    print(f\"For {category} we have {len(brown.fileids(categories=category))} articles.\")"
   ]
  },
  {
   "cell_type": "markdown",
   "id": "23fb133c",
   "metadata": {},
   "source": [
    "Let's create a dataframe of the articles in of hobbies, editorial, government, news, and romance."
   ]
  },
  {
   "cell_type": "code",
   "execution_count": 6,
   "id": "18f50b9d",
   "metadata": {},
   "outputs": [
    {
     "data": {
      "text/plain": [
       "(166, 3)"
      ]
     },
     "execution_count": 6,
     "metadata": {},
     "output_type": "execute_result"
    }
   ],
   "source": [
    "categories = ['editorial','government','news','romance','hobbies'] \n",
    "\n",
    "category_list = []\n",
    "file_ids = []\n",
    "texts = []\n",
    "\n",
    "for category in categories : \n",
    "    for file_id in brown.fileids(categories=category) :\n",
    "        \n",
    "        # build some lists for a dataframe\n",
    "        category_list.append(category)\n",
    "        file_ids.append(file_id)\n",
    "        \n",
    "        text = brown.words(fileids=file_id)\n",
    "        texts.append(\" \".join(text))\n",
    "\n",
    "        \n",
    "        \n",
    "df = pd.DataFrame()\n",
    "df['category'] = category_list\n",
    "df['id'] = file_ids\n",
    "df['text'] = texts \n",
    "\n",
    "df.shape"
   ]
  },
  {
   "cell_type": "code",
   "execution_count": 7,
   "id": "586f47de",
   "metadata": {},
   "outputs": [],
   "source": [
    "# Let's add some helpful columns on the df\n",
    "df['char_len'] = df['text'].apply(len)\n",
    "df['word_len'] = df['text'].apply(lambda x: len(x.split()))\n"
   ]
  },
  {
   "cell_type": "code",
   "execution_count": 8,
   "id": "2128fd2d",
   "metadata": {},
   "outputs": [
    {
     "data": {
      "text/plain": [
       "<AxesSubplot: xlabel='category'>"
      ]
     },
     "execution_count": 8,
     "metadata": {},
     "output_type": "execute_result"
    },
    {
     "data": {
      "image/png": "[encoded data removed]",
      "text/plain": [
       "<Figure size 1000x600 with 1 Axes>"
      ]
     },
     "metadata": {},
     "output_type": "display_data"
    }
   ],
   "source": [
    "%matplotlib inline\n",
    "df.groupby('category').agg({'word_len': 'mean'}).plot.bar(figsize=(10,6))"
   ]
  },
  {
   "cell_type": "markdown",
   "id": "554ffeb5",
   "metadata": {},
   "source": [
    "Now do our TF-IDF and Count vectorizations."
   ]
  },
  {
   "cell_type": "code",
   "execution_count": 9,
   "id": "21a7d247",
   "metadata": {},
   "outputs": [
    {
     "name": "stderr",
     "output_type": "stream",
     "text": [
      "/Library/Frameworks/Python.framework/Versions/3.11/lib/python3.11/site-packages/sklearn/feature_extraction/text.py:409: UserWarning: Your stop_words may be inconsistent with your preprocessing. Tokenizing the stop words generated tokens ['ll', 've'] not in stop_words.\n",
      "  warnings.warn(\n"
     ]
    },
    {
     "data": {
      "text/plain": [
       "(166, 4941)"
      ]
     },
     "execution_count": 9,
     "metadata": {},
     "output_type": "execute_result"
    }
   ],
   "source": [
    "count_text_vectorizer = CountVectorizer(stop_words=list(stopwords), min_df=5, max_df=0.7)\n",
    "count_text_vectors = count_text_vectorizer.fit_transform(df[\"text\"])\n",
    "count_text_vectors.shape"
   ]
  },
  {
   "cell_type": "code",
   "execution_count": 10,
   "id": "875deba9",
   "metadata": {},
   "outputs": [
    {
     "data": {
      "text/plain": [
       "(166, 4941)"
      ]
     },
     "execution_count": 10,
     "metadata": {},
     "output_type": "execute_result"
    }
   ],
   "source": [
    "tfidf_text_vectorizer = TfidfVectorizer(stop_words=list(stopwords), min_df=5, max_df=0.7)\n",
    "tfidf_text_vectors = tfidf_text_vectorizer.fit_transform(df['text'])\n",
    "tfidf_text_vectors.shape"
   ]
  },
  {
   "attachments": {},
   "cell_type": "markdown",
   "id": "a1062b21",
   "metadata": {},
   "source": [
    "Q: What do the two data frames `count_text_vectors` and `tfidf_text_vectors` hold? \n",
    "\n",
    "A: The two matrices hold the text data that was transformed using the CountVectorizer() and TfidfVectorizer() functions. Each contain the token frequencies (count_text_vectors) or the TF-IDF scores (tfidf_text_vectors) of the text column of the Brown corpus. These frequencies or scores are the unique words (tokens) with the stop words removed. The two allow us to observe a unique word (4941, columns) and its frequencies relevant for each document/text (166, rows)."
   ]
  },
  {
   "cell_type": "markdown",
   "id": "f77c3f94",
   "metadata": {},
   "source": [
    "## Fitting a Non-Negative Matrix Factorization Model\n",
    "\n",
    "In this section the code to fit a five-topic NMF model has already been written. This code comes directly from the [BTAP repo](https://github.com/blueprints-for-text-analytics-python/blueprints-text), which will help you tremendously in the coming sections. "
   ]
  },
  {
   "cell_type": "code",
   "execution_count": 11,
   "id": "d28745a3",
   "metadata": {},
   "outputs": [],
   "source": [
    "nmf_text_model = NMF(n_components=5, random_state=314)\n",
    "W_text_matrix = nmf_text_model.fit_transform(tfidf_text_vectors)\n",
    "H_text_matrix = nmf_text_model.components_"
   ]
  },
  {
   "cell_type": "code",
   "execution_count": 12,
   "id": "a67185e7",
   "metadata": {},
   "outputs": [
    {
     "name": "stdout",
     "output_type": "stream",
     "text": [
      "\n",
      "Topic 00\n",
      "  mr (0.51)\n",
      "  president (0.45)\n",
      "  kennedy (0.43)\n",
      "  united (0.42)\n",
      "  khrushchev (0.40)\n",
      "\n",
      "Topic 01\n",
      "  said (0.88)\n",
      "  didn (0.46)\n",
      "  ll (0.45)\n",
      "  thought (0.42)\n",
      "  man (0.37)\n",
      "\n",
      "Topic 02\n",
      "  state (0.39)\n",
      "  development (0.36)\n",
      "  tax (0.33)\n",
      "  sales (0.30)\n",
      "  program (0.25)\n",
      "\n",
      "Topic 03\n",
      "  mrs (2.61)\n",
      "  mr (0.78)\n",
      "  said (0.63)\n",
      "  miss (0.52)\n",
      "  car (0.51)\n",
      "\n",
      "Topic 04\n",
      "  game (1.02)\n",
      "  league (0.74)\n",
      "  ball (0.72)\n",
      "  baseball (0.71)\n",
      "  team (0.66)\n"
     ]
    }
   ],
   "source": [
    "display_topics(nmf_text_model, tfidf_text_vectorizer.get_feature_names_out())"
   ]
  },
  {
   "cell_type": "markdown",
   "id": "fee51e9b",
   "metadata": {},
   "source": [
    "Now some work for you to do. Compare the NMF factorization to the original categories from the Brown Corpus.\n",
    "\n",
    "We are interested in the extent to which our NMF factorization agrees or disagrees with the original categories in the corpus. For each topic in your NMF model, tally the Brown categories and interpret the results. \n"
   ]
  },
  {
   "cell_type": "code",
   "execution_count": 13,
   "id": "c7d16959",
   "metadata": {},
   "outputs": [],
   "source": [
    "nmf_results_df = pd.DataFrame(W_text_matrix, columns=[\"Topic 0\", \"Topic 1\", \"Topic 2\", \"Topic 3\", \"Topic 4\"])\n",
    "nmf_results_df[\"Original Category\"] = df[\"category\"]\n"
   ]
  },
  {
   "cell_type": "code",
   "execution_count": 14,
   "id": "7622d119",
   "metadata": {},
   "outputs": [
    {
     "data": {
      "text/html": [
       "<div>\n",
       "<style scoped>\n",
       "    .dataframe tbody tr th:only-of-type {\n",
       "        vertical-align: middle;\n",
       "    }\n",
       "\n",
       "    .dataframe tbody tr th {\n",
       "        vertical-align: top;\n",
       "    }\n",
       "\n",
       "    .dataframe thead th {\n",
       "        text-align: right;\n",
       "    }\n",
       "</style>\n",
       "<table border=\"1\" class=\"dataframe\">\n",
       "  <thead>\n",
       "    <tr style=\"text-align: right;\">\n",
       "      <th></th>\n",
       "      <th>Topic 0</th>\n",
       "      <th>Topic 1</th>\n",
       "      <th>Topic 2</th>\n",
       "      <th>Topic 3</th>\n",
       "      <th>Topic 4</th>\n",
       "    </tr>\n",
       "    <tr>\n",
       "      <th>Original Category</th>\n",
       "      <th></th>\n",
       "      <th></th>\n",
       "      <th></th>\n",
       "      <th></th>\n",
       "      <th></th>\n",
       "    </tr>\n",
       "  </thead>\n",
       "  <tbody>\n",
       "    <tr>\n",
       "      <th>editorial</th>\n",
       "      <td>4.420816</td>\n",
       "      <td>1.369007</td>\n",
       "      <td>1.517259</td>\n",
       "      <td>0.382334</td>\n",
       "      <td>0.566543</td>\n",
       "    </tr>\n",
       "    <tr>\n",
       "      <th>government</th>\n",
       "      <td>1.219534</td>\n",
       "      <td>0.141536</td>\n",
       "      <td>5.767501</td>\n",
       "      <td>0.284375</td>\n",
       "      <td>0.093458</td>\n",
       "    </tr>\n",
       "    <tr>\n",
       "      <th>hobbies</th>\n",
       "      <td>0.354584</td>\n",
       "      <td>1.977154</td>\n",
       "      <td>4.828017</td>\n",
       "      <td>0.468127</td>\n",
       "      <td>1.040443</td>\n",
       "    </tr>\n",
       "    <tr>\n",
       "      <th>news</th>\n",
       "      <td>3.350652</td>\n",
       "      <td>1.093574</td>\n",
       "      <td>3.178343</td>\n",
       "      <td>5.524152</td>\n",
       "      <td>4.203588</td>\n",
       "    </tr>\n",
       "    <tr>\n",
       "      <th>romance</th>\n",
       "      <td>0.183783</td>\n",
       "      <td>8.971569</td>\n",
       "      <td>0.189448</td>\n",
       "      <td>0.827248</td>\n",
       "      <td>0.399900</td>\n",
       "    </tr>\n",
       "  </tbody>\n",
       "</table>\n",
       "</div>"
      ],
      "text/plain": [
       "                    Topic 0   Topic 1   Topic 2   Topic 3   Topic 4\n",
       "Original Category                                                  \n",
       "editorial          4.420816  1.369007  1.517259  0.382334  0.566543\n",
       "government         1.219534  0.141536  5.767501  0.284375  0.093458\n",
       "hobbies            0.354584  1.977154  4.828017  0.468127  1.040443\n",
       "news               3.350652  1.093574  3.178343  5.524152  4.203588\n",
       "romance            0.183783  8.971569  0.189448  0.827248  0.399900"
      ]
     },
     "execution_count": 14,
     "metadata": {},
     "output_type": "execute_result"
    }
   ],
   "source": [
    "nmf_topic_totals = nmf_results_df.groupby(\"Original Category\").sum()\n",
    "nmf_topic_totals"
   ]
  },
  {
   "cell_type": "code",
   "execution_count": 18,
   "id": "7c8c8eb0",
   "metadata": {},
   "outputs": [],
   "source": [
    "# Let's go document by document and make a list of brown categories by topic\n",
    "topic_to_category = defaultdict(list)\n",
    "\n",
    "for idx, row in enumerate(W_text_matrix) : \n",
    "    topic = np.where(row == np.amax(row))[0]\n",
    "    category = df[\"category\"].iloc[idx]\n",
    "    \n",
    "    topic_to_category[topic[0]].append(category)"
   ]
  },
  {
   "cell_type": "code",
   "execution_count": 19,
   "id": "66a571bc",
   "metadata": {},
   "outputs": [
    {
     "name": "stdout",
     "output_type": "stream",
     "text": [
      "\n",
      "Topic 2:\n",
      "  editorial: 2\n",
      "  government: 26\n",
      "  news: 11\n",
      "  hobbies: 26\n",
      "\n",
      "Topic 0:\n",
      "  editorial: 20\n",
      "  government: 4\n",
      "  news: 8\n",
      "\n",
      "Topic 1:\n",
      "  editorial: 4\n",
      "  romance: 29\n",
      "  hobbies: 8\n",
      "\n",
      "Topic 4:\n",
      "  editorial: 1\n",
      "  news: 8\n",
      "  hobbies: 1\n",
      "\n",
      "Topic 3:\n",
      "  news: 17\n",
      "  hobbies: 1\n"
     ]
    }
   ],
   "source": [
    "topic_counts = {topic: Counter(category) for topic, category in topic_to_category.items()}\n",
    "\n",
    "# Iterate over topics and categories\n",
    "for topic, count in topic_counts.items():\n",
    "    print(f\"\\nTopic {topic}:\")\n",
    "    for category, category_count in count.items():\n",
    "        print(f\"  {category}: {category_count}\")\n"
   ]
  },
  {
   "attachments": {},
   "cell_type": "markdown",
   "id": "f8d4e2bc",
   "metadata": {},
   "source": [
    "Q: How does your five-topic NMF model compare to the original Brown categories? \n",
    "\n",
    "A: With the five topic NMF model, Topic 2 had the same number of iterations for 'government' and 'hobbies. Topic 0 had a strong association to 'editorial'. Topic 1 resulted with a higher count to 'romance'. Topic 4, had low iterations but more towards 'news'. Lastly, Topic 3 had a stronger association to 'news. \n",
    "\n",
    "- Topic 0: 'editorial'\n",
    "- Topic 1: 'romance'\n",
    "- Topic 2: 'government' and 'hobbies'\n",
    "- Topic 3: 'news'\n",
    "- Topic 4: 'news'\n",
    "\n",
    "Overall, the five-topic NMF model was able to identify associations to the original Brown corpus; however, it seemed to mix and overlap the same topics. This will likely require further training or increase the number of topics to alleviate this. "
   ]
  },
  {
   "cell_type": "markdown",
   "id": "82e37cb5",
   "metadata": {},
   "source": [
    "## Fitting an LSA Model\n",
    "\n",
    "In this section, follow the example from the repository and fit an LSA model (called a \"TruncatedSVD\" in `sklearn`). Again fit a five-topic model and compare it to the actual categories in the Brown corpus. Use the TF-IDF vectors for your fit, as above. \n",
    "\n",
    "To be explicit, we are once again interested in the extent to which this LSA factorization agrees or disagrees with the original categories in the corpus. For each topic in your model, tally the Brown categories and interpret the results. \n"
   ]
  },
  {
   "cell_type": "code",
   "execution_count": 23,
   "id": "00b53d3d",
   "metadata": {},
   "outputs": [],
   "source": [
    "# TruncatedSVD from BTAP repo\n",
    "lsa_text_model = TruncatedSVD(n_components=5, random_state=314)\n",
    "W_lsa_text_matrix = lsa_text_model.fit_transform(tfidf_text_vectors)\n",
    "H_lsa_text_matrix = lsa_text_model.components_\n",
    "\n",
    "#display_topics(lsa_text_model, tfidf_text_vectorizer.get_feature_names_out())"
   ]
  },
  {
   "cell_type": "code",
   "execution_count": 21,
   "id": "0a39819e",
   "metadata": {},
   "outputs": [
    {
     "data": {
      "text/plain": [
       "array([3.70145447, 2.25514739, 1.69705678, 1.66202287, 1.56023004])"
      ]
     },
     "execution_count": 21,
     "metadata": {},
     "output_type": "execute_result"
    }
   ],
   "source": [
    "lsa_text_model.singular_values_"
   ]
  },
  {
   "cell_type": "code",
   "execution_count": 25,
   "id": "cf41e374",
   "metadata": {},
   "outputs": [
    {
     "name": "stdout",
     "output_type": "stream",
     "text": [
      "\n",
      "Topic_LSA 0:\n",
      "  editorial: 27\n",
      "  government: 30\n",
      "  news: 34\n",
      "  romance: 21\n",
      "  hobbies: 36\n",
      "\n",
      "Topic_LSA 4:\n",
      "  news: 7\n",
      "\n",
      "Topic_LSA 3:\n",
      "  news: 3\n",
      "\n",
      "Topic_LSA 1:\n",
      "  romance: 8\n"
     ]
    }
   ],
   "source": [
    "# Let's go document by document and make a list of brown categories by topic\n",
    "topic_to_category_lsa = defaultdict(list)\n",
    "\n",
    "for idx, row in enumerate(W_lsa_text_matrix): #update this line for model\n",
    "    topic = np.argmax(row)\n",
    "    category = df[\"category\"].iloc[idx]\n",
    "    topic_to_category_lsa[topic].append(category)\n",
    "\n",
    "# Create a dictionary to store the topic counts for each category\n",
    "topic_counts_lsa = {topic: Counter(category) for topic, category in topic_to_category_lsa.items()}\n",
    "\n",
    "# Iterate over topics and categories\n",
    "for topic, count in topic_counts_lsa.items():\n",
    "    print(f\"\\nTopic_LSA {topic}:\")\n",
    "    for category, category_count in count.items():\n",
    "        print(f\"  {category}: {category_count}\")"
   ]
  },
  {
   "attachments": {},
   "cell_type": "markdown",
   "id": "4d94d56f",
   "metadata": {},
   "source": [
    "Q: How does your five-topic LSA model compare to the original Brown categories? \n",
    "\n",
    "A: With the five-topic LSA model, Topic 0 had multiple categories associated with 'news' and 'hobbies' being the most associated. Topic 4 had 'news', Topic 3 had 'news', and Topic 2 had 'romance' associated. With no categories iterated over to the original Brown corpus\n",
    "\n",
    "- Topic 0: 'hobbies' and 'news'\n",
    "- Topic 1: 'romance'\n",
    "- Topic 2:  None\n",
    "- Topic 3: 'news'\n",
    "- Topic 4: 'news'\n",
    "\n",
    "It seems multiple topics were mixed by the weights associated with the LSA model and did not associate the topics to cateogires very well."
   ]
  },
  {
   "cell_type": "code",
   "execution_count": 26,
   "id": "ab18adf5",
   "metadata": {},
   "outputs": [
    {
     "name": "stdout",
     "output_type": "stream",
     "text": [
      "\n",
      "Topic 00\n",
      "  said (0.44)\n",
      "  mr (0.25)\n",
      "  mrs (0.22)\n",
      "  state (0.20)\n",
      "  man (0.17)\n",
      "\n",
      "Topic 01\n",
      "  said (3.89)\n",
      "  ll (2.73)\n",
      "  didn (2.63)\n",
      "  thought (2.20)\n",
      "  got (1.97)\n",
      "\n",
      "Topic 02\n",
      "  mrs (3.12)\n",
      "  mr (1.70)\n",
      "  said (1.06)\n",
      "  kennedy (0.82)\n",
      "  khrushchev (0.77)\n",
      "\n",
      "Topic 03\n",
      "  mrs (29.45)\n",
      "  club (6.53)\n",
      "  game (6.12)\n",
      "  jr (5.60)\n",
      "  university (5.20)\n",
      "\n",
      "Topic 04\n",
      "  game (4.54)\n",
      "  league (3.27)\n",
      "  baseball (3.22)\n",
      "  ball (3.10)\n",
      "  team (2.94)\n"
     ]
    }
   ],
   "source": [
    "# Call `display_topics` on your fitted model here\n",
    "\n",
    "display_topics(lsa_text_model, tfidf_text_vectorizer.get_feature_names_out())"
   ]
  },
  {
   "attachments": {},
   "cell_type": "markdown",
   "id": "ea8b280a",
   "metadata": {},
   "source": [
    "Q: What is your interpretation of the display topics output? \n",
    "\n",
    "A: From the display topics output with the five-topic LSA model and comparing to the original categories of the Brown corpus I can interpret the following for each:\n",
    "\n",
    "- Topic 00: the words associated seem to be more associated to 'news' or 'editorial'; however, it is too difficult to confirm without further analysis.\n",
    "\n",
    "- Topic 01: the words listed under this topic may be more associated to the 'romance' category when compared to the others.\n",
    "\n",
    "- Topic 02: this topic and words seemed to associate more closely to 'government'.\n",
    "\n",
    "- Topic 03: the words in this topic seem to be more correlated to 'editorial' as it contains a higher weight with the 'mrs' word, making me assume it included many documents on a particular person.\n",
    "\n",
    "- Topic 04: the weights associated to the words in this topic leads me to assume this would be more associated to 'hobbies' and particularly with sports. "
   ]
  },
  {
   "cell_type": "markdown",
   "id": "b4ab4d29",
   "metadata": {},
   "source": [
    "## Fitting an LDA Model\n",
    "\n",
    "Finally, fit a five-topic LDA model using the count vectors (`count_text_vectors` from above). Display the results using `pyLDAvis.display` and describe what you learn from that visualization. "
   ]
  },
  {
   "cell_type": "code",
   "execution_count": 30,
   "id": "802cb8ff",
   "metadata": {},
   "outputs": [],
   "source": [
    "# Fit your LDA model here\n",
    "\n",
    "lda_text_model = LatentDirichletAllocation(n_components=5, random_state=314)\n",
    "W_lda_matrix = lda_text_model.fit_transform(count_text_vectors)\n",
    "H_lda_matrix = lda_text_model.components_\n"
   ]
  },
  {
   "cell_type": "code",
   "execution_count": 31,
   "id": "377a886e",
   "metadata": {},
   "outputs": [
    {
     "name": "stdout",
     "output_type": "stream",
     "text": [
      "\n",
      "Topic 00\n",
      "  said (1.05)\n",
      "  mrs (0.82)\n",
      "  little (0.56)\n",
      "  good (0.51)\n",
      "  way (0.50)\n",
      "\n",
      "Topic 01\n",
      "  state (0.67)\n",
      "  development (0.63)\n",
      "  000 (0.57)\n",
      "  program (0.48)\n",
      "  business (0.44)\n",
      "\n",
      "Topic 02\n",
      "  said (1.18)\n",
      "  mr (0.72)\n",
      "  president (0.51)\n",
      "  city (0.43)\n",
      "  state (0.37)\n",
      "\n",
      "Topic 03\n",
      "  feed (0.55)\n",
      "  college (0.54)\n",
      "  general (0.44)\n",
      "  university (0.43)\n",
      "  work (0.37)\n",
      "\n",
      "Topic 04\n",
      "  states (1.14)\n",
      "  state (1.02)\n",
      "  united (0.84)\n",
      "  shall (0.66)\n",
      "  government (0.61)\n"
     ]
    }
   ],
   "source": [
    "# call display_topics on your model\n",
    "\n",
    "display_topics(lda_text_model, count_text_vectorizer.get_feature_names_out())"
   ]
  },
  {
   "cell_type": "markdown",
   "id": "f2c67876",
   "metadata": {},
   "source": [
    "Q: What inference do you draw from the displayed topics for your LDA model? \n",
    "\n",
    "A: <!-- Your answer here --> \n",
    "\n",
    "Q: Repeat the tallying of Brown categories within your topics. How does your five-topic LDA model compare to the original Brown categories? \n",
    "\n",
    "A: <!-- Your answer here --> "
   ]
  },
  {
   "cell_type": "code",
   "execution_count": 32,
   "id": "6aae75ca",
   "metadata": {},
   "outputs": [],
   "source": [
    "lda_display = pyLDAvis.lda_model.prepare(lda_text_model, count_text_vectors, count_text_vectorizer, sort_topics=False)"
   ]
  },
  {
   "cell_type": "code",
   "execution_count": 33,
   "id": "2a89fc15",
   "metadata": {},
   "outputs": [
    {
     "data": {
      "text/html": [
       "\n",
       "<link rel=\"stylesheet\" type=\"text/css\" href=\"https://cdn.jsdelivr.net/gh/bmabey/pyLDAvis@3.4.0/pyLDAvis/js/ldavis.v1.0.0.css\">\n",
       "\n",
       "\n",
       "<div id=\"ldavis_el31269111442598248362252420\" style=\"background-color:white;\"></div>\n",
       "<script type=\"text/javascript\">\n",
       "\n",
       "var ldavis_el31269111442598248362252420_data = {\"mdsDat\": {\"x\": [-0.24352303362204114, 0.1305571939552598, -0.05665667547392702, 0.041427484839751366, 0.128195030300957], \"y\": [0.0068297206794744715, -0.05588474470164486, 0.038523662874464036, -0.11285215230955913, 0.12338351345726555], \"topics\": [1, 2, 3, 4, 5], \"cluster\": [1, 1, 1, 1, 1], \"Freq\": [22.89695729653443, 20.431968542841805, 32.00626407252678, 12.36882561293208, 12.295984475164891]}, \"tinfo\": {\"Term\": [\"states\", \"state\", \"said\", \"mrs\", \"united\", \"shall\", \"development\", \"tax\", \"feed\", \"fiscal\", \"college\", \"government\", \"ll\", \"don\", \"000\", \"university\", \"department\", \"didn\", \"sales\", \"president\", \"rhode\", \"got\", \"equipment\", \"little\", \"mother\", \"class\", \"act\", \"program\", \"system\", \"property\", \"hair\", \"baby\", \"clothes\", \"walls\", \"anne\", \"fig\", \"pale\", \"pink\", \"dry\", \"yellow\", \"entrance\", \"hadn\", \"ham\", \"couldn\", \"frames\", \"fingers\", \"flowers\", \"windows\", \"bride\", \"hell\", \"handsome\", \"coat\", \"cloth\", \"sweet\", \"stared\", \"liked\", \"colored\", \"studio\", \"bed\", \"trees\", \"shelter\", \"mother\", \"looked\", \"clay\", \"wasn\", \"guests\", \"didn\", \"woman\", \"sat\", \"pieces\", \"colors\", \"eyes\", \"drill\", \"mrs\", \"ll\", \"don\", \"thought\", \"room\", \"sun\", \"inch\", \"ve\", \"black\", \"little\", \"knew\", \"went\", \"sure\", \"got\", \"door\", \"look\", \"son\", \"know\", \"said\", \"way\", \"come\", \"came\", \"good\", \"place\", \"away\", \"old\", \"water\", \"right\", \"man\", \"let\", \"life\", \"left\", \"house\", \"day\", \"home\", \"systems\", \"marketing\", \"electronic\", \"boats\", \"missiles\", \"components\", \"aircraft\", \"machine\", \"rhode\", \"assessment\", \"shipments\", \"laboratory\", \"bankers\", \"savings\", \"yield\", \"industrial\", \"forests\", \"compared\", \"machines\", \"procurement\", \"missile\", \"conservation\", \"utility\", \"inventories\", \"polaris\", \"manufacturing\", \"machinery\", \"investment\", \"recreation\", \"banks\", \"property\", \"industry\", \"equipment\", \"sales\", \"radiation\", \"planning\", \"development\", \"medical\", \"providence\", \"billion\", \"system\", \"shares\", \"manufacturers\", \"island\", \"1960\", \"production\", \"1959\", \"products\", \"research\", \"co\", \"range\", \"000\", \"program\", \"business\", \"cost\", \"million\", \"available\", \"state\", \"small\", \"company\", \"national\", \"1961\", \"provide\", \"areas\", \"service\", \"use\", \"military\", \"tax\", \"public\", \"khrushchev\", \"player\", \"rayburn\", \"congo\", \"republican\", \"moscow\", \"southern\", \"baseball\", \"railroad\", \"castro\", \"troops\", \"yards\", \"charter\", \"yankees\", \"premier\", \"alexander\", \"democrats\", \"captain\", \"chinese\", \"coach\", \"laos\", \"gen\", \"cuban\", \"opposition\", \"soviet\", \"katanga\", \"republicans\", \"pope\", \"bombs\", \"robinson\", \"berlin\", \"speaker\", \"communist\", \"democratic\", \"eisenhower\", \"league\", \"mayor\", \"cuba\", \"st\", \"police\", \"yesterday\", \"china\", \"west\", \"monday\", \"race\", \"john\", \"east\", \"kennedy\", \"city\", \"mr\", \"meeting\", \"party\", \"president\", \"said\", \"week\", \"war\", \"political\", \"nations\", \"game\", \"committee\", \"leaders\", \"american\", \"world\", \"york\", \"home\", \"county\", \"man\", \"united\", \"people\", \"house\", \"state\", \"day\", \"old\", \"000\", \"government\", \"men\", \"national\", \"states\", \"school\", \"academic\", \"faculty\", \"trustees\", \"campus\", \"recognition\", \"classical\", \"professors\", \"mathematics\", \"musical\", \"tends\", \"feed\", \"stockholders\", \"fulfill\", \"meat\", \"unions\", \"chemical\", \"motors\", \"prosperity\", \"cattle\", \"prestige\", \"designer\", \"curriculum\", \"clerical\", \"catholic\", \"collective\", \"recorded\", \"appearances\", \"creative\", \"membership\", \"trust\", \"music\", \"chamber\", \"students\", \"student\", \"colleges\", \"teachers\", \"college\", \"engineer\", \"interior\", \"university\", \"daily\", \"pool\", \"schools\", \"education\", \"art\", \"general\", \"anti\", \"members\", \"technical\", \"labor\", \"design\", \"administration\", \"level\", \"work\", \"school\", \"president\", \"problem\", \"board\", \"department\", \"american\", \"good\", \"men\", \"aid\", \"world\", \"high\", \"cousin\", \"rehabilitation\", \"coal\", \"vocational\", \"definition\", \"denied\", \"thereof\", \"bonds\", \"payment\", \"rico\", \"puerto\", \"coordination\", \"filing\", \"adopting\", \"recommendation\", \"calendar\", \"hated\", \"proceedings\", \"commodities\", \"sectors\", \"connections\", \"62\", \"vehicles\", \"allocation\", \"treasury\", \"tractor\", \"adjustments\", \"upstairs\", \"shall\", \"assigned\", \"india\", \"exercise\", \"interference\", \"payments\", \"fiscal\", \"authorized\", \"claim\", \"stations\", \"insurance\", \"claims\", \"class\", \"states\", \"income\", \"return\", \"tax\", \"united\", \"junior\", \"hearing\", \"act\", \"countries\", \"cars\", \"state\", \"agreement\", \"department\", \"government\", \"secretary\", \"officer\", \"section\", \"title\", \"federal\", \"use\", \"service\", \"30\", \"board\", \"services\", \"pay\", \"local\", \"day\"], \"Freq\": [328.0, 485.0, 803.0, 307.0, 298.0, 123.0, 199.0, 172.0, 93.0, 107.0, 120.0, 273.0, 167.0, 178.0, 282.0, 122.0, 153.0, 124.0, 117.0, 297.0, 86.0, 147.0, 105.0, 237.0, 97.0, 97.0, 127.0, 230.0, 142.0, 95.0, 35.266031697679516, 35.25985457287085, 32.3428239171505, 32.33880808918396, 34.234073004331044, 31.327619231629445, 26.498517625454504, 25.524771041025026, 23.573236778164127, 25.42713825332057, 21.61942811514907, 30.99304467895144, 19.675700186736584, 51.43981707238507, 20.58973330557, 17.726312752092984, 23.305040810822845, 16.751973310918505, 17.67796618496798, 15.78178949352549, 15.7806661627821, 15.765038139000255, 14.807347406646535, 14.80685767925679, 14.806525243898385, 14.805562659021435, 15.72134167497508, 14.793031300690538, 34.14874849426121, 27.742455010304482, 57.204169859252545, 90.05985801714506, 78.93387784968826, 75.71076669182489, 53.907238782962985, 29.982839371430067, 108.73073941993039, 50.25085074519484, 34.934191866446355, 48.297523762670515, 27.141746207592906, 83.99183249657627, 31.328311483268074, 234.33243224195596, 134.73682388828394, 142.22532063651929, 113.48998687104904, 84.70739288661416, 47.85107317359333, 58.28164360651531, 69.82209572678205, 54.447334924203055, 159.93873456068206, 71.32903793545285, 100.47914727932269, 70.80739412891492, 101.54763550743175, 56.564345442016055, 89.14937958191942, 57.942787656314856, 112.80221967394873, 300.1915799527001, 143.08214720581603, 108.66785528409193, 97.93192846288156, 146.72016490751076, 107.63695959300948, 81.83857826579651, 125.33252753577936, 93.65427756652967, 105.80662989454567, 122.43392673750694, 76.37882747857932, 81.85609009063351, 81.25833894745249, 87.71132897871951, 85.95109916972149, 84.11085690371246, 37.62033917696881, 41.26043043714824, 26.1085041268941, 38.01490066718641, 22.24099597794043, 21.223514374686566, 54.24848359225271, 50.39470006191911, 82.33814930496476, 17.226327234067018, 13.599502717078906, 16.290888590985354, 10.740632157231785, 17.005387252552126, 15.13334249422729, 72.03843499106002, 14.93822306027174, 24.574363297208, 28.90817387123341, 17.448867762039573, 36.58474259793833, 7.854789008100244, 11.322258118599667, 6.910963131905761, 6.906977941612576, 18.167211407818066, 30.179415379306594, 24.91805800990386, 32.62393120086358, 16.267831354180657, 85.04409531611375, 85.23076408361725, 92.04061867537712, 102.21030740338125, 31.419941862258113, 72.2935473615962, 160.58456695669398, 84.12221117794044, 39.27101304252772, 47.1535259083022, 110.99031567699497, 32.52656888050946, 35.56961213374265, 88.51387155669508, 93.20958887097942, 63.84974612826232, 50.27196273949971, 49.69605754659334, 72.63469421541095, 46.826210408830384, 53.98496787689073, 144.62866634727263, 123.50896845655322, 113.19861054790823, 73.61038906890644, 79.16133829903085, 74.66204969189857, 169.46520342296228, 100.42960965644959, 76.12853270707242, 92.20105914345187, 67.16061893470132, 66.50125650021172, 62.631295228026985, 86.66947068148009, 95.41631280398072, 65.25389352558302, 67.84173831149509, 65.61364145319385, 73.42554374783124, 48.67768498296595, 46.70642783836326, 43.73337493489188, 39.77817876808445, 37.800107478394324, 34.82722841019423, 39.61877024477505, 32.84180904847269, 29.881397928372564, 26.912817657012962, 26.89959101139299, 27.86029549757161, 25.925615833025628, 24.93520264611285, 24.927860722599338, 23.946196773271833, 23.938724665538537, 22.949710429481566, 22.94066110961124, 49.61478194372411, 21.955319680146978, 20.97470862289917, 20.95696065584776, 78.92743956978481, 19.98234147220937, 19.972841684788577, 19.96743951892554, 18.99653596416777, 18.994551077568083, 63.2242597264592, 40.66068656369506, 70.96278176057116, 59.0046576018412, 38.64663320997927, 57.991204762006916, 43.21771150153891, 36.74625566194079, 71.47530467432694, 44.379150265041254, 58.0296535827313, 32.828237255154946, 96.08418538831437, 58.46515417030853, 40.505659296092915, 142.98368478351765, 83.85420121427461, 111.14875577393458, 172.6235320002638, 287.8781423603008, 84.13213702614429, 92.01772270153518, 205.40634873734763, 470.8902208582254, 140.76265143255998, 113.011399502616, 71.05038233620006, 67.16518889885626, 73.87620209973947, 83.76171945290713, 50.002467140636746, 148.6461501680544, 138.13586962558088, 96.8300923635503, 140.02404620727498, 76.8335005155327, 129.58037547484778, 125.62152536157618, 118.36210204722802, 110.56501449328115, 148.84517946191198, 119.60071243642462, 108.76991140081185, 105.30536803757681, 99.52164947706379, 90.46561781119043, 91.57849254494349, 96.15786407278657, 83.84436994950721, 27.814826569302774, 48.93684709004372, 18.503509985385985, 14.879468477087569, 15.473941152164258, 9.37335260705387, 8.429864173735869, 7.546272419664456, 18.414920463159127, 7.518959799427083, 84.44155436104488, 18.268486568333206, 6.622128289059265, 19.541713824661688, 18.587130254335857, 23.146111999202645, 38.251971813159486, 4.773288678682476, 17.381566736920465, 10.238816773832234, 14.802706325018882, 7.011676741661542, 4.663272913791561, 25.479595882436147, 10.014582060857437, 7.582398158918751, 4.5400150413285605, 12.85364925407364, 19.425628383036656, 29.706978723475068, 46.8250108783509, 21.45040054139247, 52.99436840195945, 54.95528137360932, 16.311008295186415, 25.6207306982236, 83.62014229714049, 24.941675902345807, 28.633459492336442, 67.01241734256327, 33.33126174189986, 43.627376544116544, 49.32037920830917, 46.41828570415979, 34.856196031964835, 67.66899625922107, 32.10381351159181, 51.62302814445632, 31.177936996002884, 33.895493042174905, 35.04082063901759, 44.49327955892627, 35.22883442674159, 56.488612527783054, 47.16711951156578, 55.687789661336176, 39.641505360522395, 42.71566054538788, 38.01482404768355, 43.01510978367261, 42.902561785702794, 38.25715440917912, 34.06878160168597, 37.62879650451416, 34.84607073269737, 24.895381739117944, 17.608710471055925, 22.617152720693436, 12.988354717680908, 12.081651178952171, 17.255761258059295, 11.043916669732496, 28.504391307942168, 36.75187172723355, 17.2926190415907, 17.289973715259737, 6.586201822372032, 15.531276371536102, 5.669749860722192, 16.06995842193475, 20.12573678235817, 5.626627615289117, 6.416436823858537, 14.343171489794216, 4.761534756745237, 5.547238482984927, 5.5325088337572375, 35.56950814402405, 10.223530392476116, 22.866566967658514, 19.499373411737256, 10.913572827235164, 5.430408333634625, 101.16733937850314, 9.141628146127184, 29.604377811542943, 21.945570724591892, 28.494458626329152, 31.902747941397084, 82.2435050790089, 23.619992267391012, 32.823688144755984, 43.573997396850146, 25.757310222259715, 22.213358197218522, 63.525155444168114, 175.3023929205666, 50.03986268624467, 41.16101243435996, 86.65875331991676, 128.39237926387375, 39.910341717438584, 33.8157868277052, 65.01077528351196, 47.42060534620157, 40.20927959281347, 156.2942625971691, 38.83917469224586, 66.04762002987088, 93.4961855647457, 54.83909075025181, 32.98378789632133, 41.66456800174165, 29.98997040790955, 43.23305137556858, 57.37752089386287, 52.701149146646735, 42.22418118531039, 42.52715360133008, 36.829108002786306, 37.09681062937608, 36.74442128741928, 37.176157676027245], \"Total\": [328.0, 485.0, 803.0, 307.0, 298.0, 123.0, 199.0, 172.0, 93.0, 107.0, 120.0, 273.0, 167.0, 178.0, 282.0, 122.0, 153.0, 124.0, 117.0, 297.0, 86.0, 147.0, 105.0, 237.0, 97.0, 97.0, 127.0, 230.0, 142.0, 95.0, 36.02603912499986, 36.02588883819035, 33.10322172299765, 33.10319945151622, 35.05056255948613, 32.128537874832716, 27.25759589658223, 26.283381057698215, 24.334723323645935, 26.28457560730937, 22.38617131270357, 32.134917729304725, 20.437642353730435, 53.485417657861355, 21.413009212119377, 18.4889776978158, 24.319878358135647, 17.514841028502055, 18.48997788651865, 16.540707205667317, 16.54068383919485, 16.540152118252486, 15.566432075823174, 15.566368553159581, 15.566439385894093, 15.566408536159063, 16.54112310277151, 15.566128130021557, 35.96189057796924, 29.216873363902366, 60.42030248595257, 97.50813665440423, 85.71452146351679, 82.76557482881314, 58.48806964583605, 32.15043643449323, 124.77305109139077, 55.49593407027593, 37.8963918407653, 53.44875378566886, 29.186855354435664, 98.42108266493304, 34.108659255171254, 307.99715835781416, 167.83422712513703, 178.18542278378132, 139.82171036116085, 103.42674442190595, 54.562238116231995, 68.76954856434935, 84.83647160041042, 64.26201397041542, 237.75277971425638, 90.5197363342037, 137.70593095628732, 91.77444009129965, 147.7937685617617, 70.06214294099415, 129.86657516906675, 73.99592681862177, 191.48072080434144, 803.8548070648295, 274.85427260577245, 186.07372334983495, 163.1589979967047, 306.43403590768946, 190.15544412730654, 123.89985251249693, 254.8494682894126, 162.71698521260248, 213.57338284403215, 283.01536045192046, 121.95636925526736, 161.53017716157905, 163.20991301290175, 234.1218436768741, 302.34647433345026, 268.5137641979602, 38.38900181276886, 42.219751146557186, 26.870239511488496, 39.325305112537485, 23.031355908186363, 22.06902387883876, 56.67664066614097, 52.83541185825134, 86.46800449904794, 18.22147763216329, 14.390064081926623, 17.262361508112335, 11.511442662430964, 18.23745719845577, 16.292903446551147, 78.46760127905371, 16.284197226960192, 26.802268957257596, 31.645263380810654, 19.14727441136658, 40.189557722273314, 8.631750433563742, 12.458169098970645, 7.671836647717209, 7.67195030715788, 20.18844642310028, 33.58228715547516, 27.7581657316788, 36.44648449277575, 18.179838892874397, 95.59958109020089, 96.93212392160405, 105.65758026062856, 117.78573708942233, 35.559443489422534, 85.0119273221592, 199.00113683933105, 101.0229234139563, 45.14381488359437, 54.901189630749776, 142.6626279152401, 37.275769525790786, 41.990975863697216, 120.33277045687889, 129.7781845158142, 84.83256378608144, 63.727084038072014, 62.844187236680156, 102.98876739202467, 59.70895018137999, 72.90815716855998, 282.94427412443616, 230.32157269786694, 209.32374748162175, 115.94033775080973, 128.99304695412945, 119.71572579817432, 485.5254739281198, 211.3753924823506, 138.53740854960475, 215.73422314818583, 114.91801537520548, 112.93575546782296, 99.90679935398616, 203.57909034218514, 253.44869724604666, 123.30539886857126, 172.80964183116566, 200.80538207395296, 74.18132611605127, 49.44169052826693, 47.46260119923944, 44.49359036010495, 40.53551399617136, 38.55638985076477, 35.587527828435476, 40.52408901130405, 33.60786999510346, 30.63965223281023, 27.670894341231318, 27.670809878218442, 28.659135933770308, 26.681481371686964, 25.691806203590634, 25.691678325478694, 24.702282074756564, 24.702154272987798, 23.712487033002045, 23.71193932275296, 51.344361291669095, 22.722416271833247, 21.73341108202849, 21.732251919217536, 81.93116365784135, 20.74359979320197, 20.74291137765739, 20.74332961345865, 19.75425783489287, 19.754312772549582, 66.10674015267463, 42.43698376216301, 74.99667222533026, 62.13038324129464, 40.45277924173405, 61.20732427285943, 45.379272772809294, 38.4795855221263, 78.03996648950977, 47.29725623534731, 63.027230870364626, 34.52865293710652, 108.34119862739152, 64.0092290665556, 43.3407031416964, 171.40817645781524, 96.50766365165026, 132.0418807915384, 217.90548917781646, 392.8566393536836, 99.38191347480662, 110.41190710132182, 297.0893859119428, 803.8548070648295, 190.95279899715115, 148.12895827305647, 84.33186741272115, 80.65436811910891, 91.54281280787269, 111.0586379693924, 55.265203097107126, 262.8761488078903, 256.0899824588553, 148.46972078147337, 268.5137641979602, 105.8449818383527, 283.01536045192046, 298.7240339741692, 265.6177234105347, 234.1218436768741, 485.5254739281198, 302.34647433345026, 254.8494682894126, 282.94427412443616, 273.1049196397213, 193.4951872205605, 215.73422314818583, 328.0876630034328, 171.68266645156044, 28.587671191002883, 50.75235104005466, 19.380805810593998, 15.69330433375889, 16.63341486307521, 10.16563158813519, 9.245712123820628, 8.322226888959056, 20.348539793129643, 8.32234129436146, 93.52912134200902, 20.350673528278282, 7.401195317063838, 22.202972880525127, 21.263556998272584, 26.864176614307773, 44.466850734734656, 5.559156794388775, 20.429848324794328, 12.080566726948904, 17.61616608544221, 8.344571664079323, 5.563614525856894, 30.740062340111105, 12.097121988775971, 9.309062259927511, 5.575810965371247, 15.790102910241025, 24.236359627179464, 37.140658075135555, 59.64261324812849, 27.081082977874363, 68.97438698866307, 71.68275492289165, 20.46714171356444, 33.347601350252475, 120.99975166695648, 32.58028930812075, 39.89608051957488, 122.31078776847795, 52.49852760150619, 75.23212830270081, 89.45812584148686, 84.56146294600377, 57.49325835273575, 198.00621277778868, 57.79720640203338, 140.21994582812474, 57.24356765830154, 68.34216300022533, 74.7287103777943, 131.4090715711945, 82.98496450235838, 256.97786239275575, 171.68266645156044, 297.0893859119428, 117.36282478725461, 173.0251476470947, 153.0306200256715, 262.8761488078903, 306.43403590768946, 193.4951872205605, 99.64739691842244, 256.0899824588553, 217.96093203160197, 25.719900356958128, 18.379206160058782, 23.884995096222188, 13.795801363596574, 12.877393873437688, 18.395872134442143, 11.965555537317112, 31.301788527830077, 40.52555344944816, 19.30574761946476, 19.30538173564197, 7.373665018594345, 17.516110794478642, 6.456504867903865, 18.386543136831975, 23.07591468933513, 6.459370956327411, 7.374057915469392, 16.593451639249743, 5.538818995171571, 6.4622195262413555, 6.457204216744041, 41.58244844081575, 11.963052970316324, 26.870254060738795, 23.091351462145592, 12.931560935207857, 6.471692815484676, 123.04949327572983, 11.12909382613573, 36.087265967704184, 26.77461259555281, 35.191972553443705, 39.79154818535328, 107.51555928474959, 29.573704296915565, 42.5466599415067, 57.80855935459394, 33.29164203718919, 28.65897514261259, 97.16968285832571, 328.0876630034328, 79.94285226747928, 64.56516799991908, 172.80964183116566, 298.7240339741692, 62.79076549191268, 50.551680739664874, 127.86759220361668, 82.87435176840472, 65.84647973719709, 485.5254739281198, 64.87874739797839, 153.0306200256715, 273.1049196397213, 119.84296064796642, 52.25627453052495, 81.49566812100721, 44.58064300425603, 112.63804601931176, 253.44869724604666, 203.57909034218514, 114.38793137157589, 173.0251476470947, 93.38657624530411, 103.89058589990495, 128.421143728321, 302.34647433345026], \"Category\": [\"Default\", \"Default\", \"Default\", \"Default\", \"Default\", \"Default\", \"Default\", \"Default\", \"Default\", \"Default\", \"Default\", \"Default\", \"Default\", \"Default\", \"Default\", \"Default\", \"Default\", \"Default\", \"Default\", \"Default\", \"Default\", \"Default\", \"Default\", \"Default\", \"Default\", \"Default\", \"Default\", \"Default\", \"Default\", \"Default\", \"Topic1\", \"Topic1\", \"Topic1\", \"Topic1\", \"Topic1\", \"Topic1\", \"Topic1\", \"Topic1\", \"Topic1\", \"Topic1\", \"Topic1\", \"Topic1\", \"Topic1\", \"Topic1\", \"Topic1\", \"Topic1\", \"Topic1\", \"Topic1\", \"Topic1\", \"Topic1\", \"Topic1\", \"Topic1\", \"Topic1\", \"Topic1\", \"Topic1\", \"Topic1\", \"Topic1\", \"Topic1\", \"Topic1\", \"Topic1\", \"Topic1\", \"Topic1\", \"Topic1\", \"Topic1\", \"Topic1\", \"Topic1\", \"Topic1\", \"Topic1\", \"Topic1\", \"Topic1\", \"Topic1\", \"Topic1\", \"Topic1\", \"Topic1\", \"Topic1\", \"Topic1\", \"Topic1\", \"Topic1\", \"Topic1\", \"Topic1\", \"Topic1\", \"Topic1\", \"Topic1\", \"Topic1\", \"Topic1\", \"Topic1\", \"Topic1\", \"Topic1\", \"Topic1\", \"Topic1\", \"Topic1\", \"Topic1\", \"Topic1\", \"Topic1\", \"Topic1\", \"Topic1\", \"Topic1\", \"Topic1\", \"Topic1\", \"Topic1\", \"Topic1\", \"Topic1\", \"Topic1\", \"Topic1\", \"Topic1\", \"Topic1\", \"Topic1\", \"Topic1\", \"Topic2\", \"Topic2\", \"Topic2\", \"Topic2\", \"Topic2\", \"Topic2\", \"Topic2\", \"Topic2\", \"Topic2\", \"Topic2\", \"Topic2\", \"Topic2\", \"Topic2\", \"Topic2\", \"Topic2\", \"Topic2\", \"Topic2\", \"Topic2\", \"Topic2\", \"Topic2\", \"Topic2\", \"Topic2\", \"Topic2\", \"Topic2\", \"Topic2\", \"Topic2\", \"Topic2\", \"Topic2\", \"Topic2\", \"Topic2\", \"Topic2\", \"Topic2\", \"Topic2\", \"Topic2\", \"Topic2\", \"Topic2\", \"Topic2\", \"Topic2\", \"Topic2\", \"Topic2\", \"Topic2\", \"Topic2\", \"Topic2\", \"Topic2\", \"Topic2\", \"Topic2\", \"Topic2\", \"Topic2\", \"Topic2\", \"Topic2\", \"Topic2\", \"Topic2\", \"Topic2\", \"Topic2\", \"Topic2\", \"Topic2\", \"Topic2\", \"Topic2\", \"Topic2\", \"Topic2\", \"Topic2\", \"Topic2\", \"Topic2\", \"Topic2\", \"Topic2\", \"Topic2\", \"Topic2\", \"Topic2\", \"Topic2\", \"Topic3\", \"Topic3\", \"Topic3\", \"Topic3\", \"Topic3\", \"Topic3\", \"Topic3\", \"Topic3\", \"Topic3\", \"Topic3\", \"Topic3\", \"Topic3\", \"Topic3\", \"Topic3\", \"Topic3\", \"Topic3\", \"Topic3\", \"Topic3\", \"Topic3\", \"Topic3\", \"Topic3\", \"Topic3\", \"Topic3\", \"Topic3\", \"Topic3\", \"Topic3\", \"Topic3\", \"Topic3\", \"Topic3\", \"Topic3\", \"Topic3\", \"Topic3\", \"Topic3\", \"Topic3\", \"Topic3\", \"Topic3\", \"Topic3\", \"Topic3\", \"Topic3\", \"Topic3\", \"Topic3\", \"Topic3\", \"Topic3\", \"Topic3\", \"Topic3\", \"Topic3\", \"Topic3\", \"Topic3\", \"Topic3\", \"Topic3\", \"Topic3\", \"Topic3\", \"Topic3\", \"Topic3\", \"Topic3\", \"Topic3\", \"Topic3\", \"Topic3\", \"Topic3\", \"Topic3\", \"Topic3\", \"Topic3\", \"Topic3\", \"Topic3\", \"Topic3\", \"Topic3\", \"Topic3\", \"Topic3\", \"Topic3\", \"Topic3\", \"Topic3\", \"Topic3\", \"Topic3\", \"Topic3\", \"Topic3\", \"Topic3\", \"Topic3\", \"Topic3\", \"Topic3\", \"Topic4\", \"Topic4\", \"Topic4\", \"Topic4\", \"Topic4\", \"Topic4\", \"Topic4\", \"Topic4\", \"Topic4\", \"Topic4\", \"Topic4\", \"Topic4\", \"Topic4\", \"Topic4\", \"Topic4\", \"Topic4\", \"Topic4\", \"Topic4\", \"Topic4\", \"Topic4\", \"Topic4\", \"Topic4\", \"Topic4\", \"Topic4\", \"Topic4\", \"Topic4\", \"Topic4\", \"Topic4\", \"Topic4\", \"Topic4\", \"Topic4\", \"Topic4\", \"Topic4\", \"Topic4\", \"Topic4\", \"Topic4\", \"Topic4\", \"Topic4\", \"Topic4\", \"Topic4\", \"Topic4\", \"Topic4\", \"Topic4\", \"Topic4\", \"Topic4\", \"Topic4\", \"Topic4\", \"Topic4\", \"Topic4\", \"Topic4\", \"Topic4\", \"Topic4\", \"Topic4\", \"Topic4\", \"Topic4\", \"Topic4\", \"Topic4\", \"Topic4\", \"Topic4\", \"Topic4\", \"Topic4\", \"Topic4\", \"Topic4\", \"Topic4\", \"Topic4\", \"Topic5\", \"Topic5\", \"Topic5\", \"Topic5\", \"Topic5\", \"Topic5\", \"Topic5\", \"Topic5\", \"Topic5\", \"Topic5\", \"Topic5\", \"Topic5\", \"Topic5\", \"Topic5\", \"Topic5\", \"Topic5\", \"Topic5\", \"Topic5\", \"Topic5\", \"Topic5\", \"Topic5\", \"Topic5\", \"Topic5\", \"Topic5\", \"Topic5\", \"Topic5\", \"Topic5\", \"Topic5\", \"Topic5\", \"Topic5\", \"Topic5\", \"Topic5\", \"Topic5\", \"Topic5\", \"Topic5\", \"Topic5\", \"Topic5\", \"Topic5\", \"Topic5\", \"Topic5\", \"Topic5\", \"Topic5\", \"Topic5\", \"Topic5\", \"Topic5\", \"Topic5\", \"Topic5\", \"Topic5\", \"Topic5\", \"Topic5\", \"Topic5\", \"Topic5\", \"Topic5\", \"Topic5\", \"Topic5\", \"Topic5\", \"Topic5\", \"Topic5\", \"Topic5\", \"Topic5\", \"Topic5\", \"Topic5\", \"Topic5\", \"Topic5\", \"Topic5\", \"Topic5\", \"Topic5\", \"Topic5\"], \"logprob\": [30.0, 29.0, 28.0, 27.0, 26.0, 25.0, 24.0, 23.0, 22.0, 21.0, 20.0, 19.0, 18.0, 17.0, 16.0, 15.0, 14.0, 13.0, 12.0, 11.0, 10.0, 9.0, 8.0, 7.0, 6.0, 5.0, 4.0, 3.0, 2.0, 1.0, -6.6963, -6.6965, -6.7828, -6.7829, -6.726, -6.8147, -6.9821, -7.0195, -7.0991, -7.0234, -7.1856, -6.8254, -7.2798, -6.3188, -7.2344, -7.3841, -7.1105, -7.4407, -7.3869, -7.5003, -7.5004, -7.5014, -7.5641, -7.5641, -7.5641, -7.5642, -7.5042, -7.565, -6.7285, -6.9362, -6.2126, -5.7587, -5.8906, -5.9323, -6.2719, -6.8586, -5.5703, -6.3422, -6.7057, -6.3818, -6.9581, -5.8285, -6.8147, -4.8025, -5.3559, -5.3018, -5.5275, -5.82, -6.3911, -6.1939, -6.0132, -6.262, -5.1844, -5.9919, -5.6492, -5.9992, -5.6387, -6.2238, -5.7689, -6.1997, -5.5336, -4.5548, -5.2958, -5.5709, -5.6749, -5.2707, -5.5804, -5.8544, -5.4282, -5.7196, -5.5976, -5.4516, -5.9235, -5.8542, -5.8616, -5.7851, -5.8054, -5.8271, -6.5177, -6.4254, -6.883, -6.5073, -7.0434, -7.0902, -6.1517, -6.2254, -5.7345, -7.2989, -7.5353, -7.3547, -7.7713, -7.3118, -7.4284, -5.8681, -7.4414, -6.9436, -6.7812, -7.286, -6.5457, -8.0842, -7.7185, -8.2122, -8.2128, -7.2457, -6.7381, -6.9297, -6.6602, -7.3561, -5.7021, -5.6999, -5.6231, -5.5183, -6.6978, -5.8646, -5.0665, -5.713, -6.4748, -6.2919, -5.4358, -6.6632, -6.5738, -5.6621, -5.6104, -5.9888, -6.2278, -6.2394, -5.8598, -6.2988, -6.1566, -5.1711, -5.329, -5.4161, -5.8465, -5.7738, -5.8323, -5.0126, -5.5358, -5.8129, -5.6213, -5.9382, -5.9481, -6.008, -5.6832, -5.587, -5.967, -5.9281, -5.9615, -6.2979, -6.7089, -6.7502, -6.816, -6.9108, -6.9618, -7.0437, -6.9148, -7.1024, -7.1969, -7.3015, -7.302, -7.2669, -7.3389, -7.3778, -7.3781, -7.4183, -7.4186, -7.4608, -7.4612, -6.6898, -7.5051, -7.5508, -7.5517, -6.2256, -7.5993, -7.5997, -7.6, -7.6499, -7.65, -6.4474, -6.8889, -6.332, -6.5165, -6.9397, -6.5338, -6.8279, -6.9901, -6.3248, -6.8014, -6.5332, -7.1028, -6.0289, -6.5257, -6.8927, -5.6314, -6.165, -5.8833, -5.443, -4.9316, -6.1617, -6.0721, -5.2691, -4.4395, -5.647, -5.8666, -6.3307, -6.387, -6.2917, -6.1661, -6.6821, -5.5926, -5.6659, -6.0212, -5.6523, -6.2525, -5.7298, -5.7608, -5.8204, -5.8885, -5.5912, -5.81, -5.9049, -5.9373, -5.9937, -6.0892, -6.0769, -6.0281, -6.1652, -6.3178, -5.7528, -6.7254, -6.9434, -6.9042, -7.4055, -7.5116, -7.6223, -6.7302, -7.6259, -5.2073, -6.7382, -7.753, -6.6708, -6.7209, -6.5015, -5.9992, -8.0803, -6.788, -7.3172, -6.9486, -7.6958, -8.1037, -6.4055, -7.3393, -7.6175, -8.1304, -7.0897, -6.6768, -6.252, -5.797, -6.5776, -5.6732, -5.6369, -6.8515, -6.4, -5.2171, -6.4268, -6.2888, -5.4385, -6.1369, -5.8677, -5.745, -5.8057, -6.0921, -5.4287, -6.1744, -5.6994, -6.2037, -6.1201, -6.0869, -5.848, -6.0815, -5.6093, -5.7897, -5.6236, -5.9635, -5.8888, -6.0054, -5.8818, -5.8844, -5.999, -6.115, -6.0156, -6.0924, -6.4228, -6.7691, -6.5188, -7.0734, -7.1458, -6.7893, -7.2356, -6.2874, -6.0333, -6.7872, -6.7873, -7.7525, -6.8946, -7.9023, -6.8605, -6.6355, -7.91, -7.7786, -6.9742, -8.0769, -7.9242, -7.9268, -6.066, -7.3128, -6.5078, -6.6671, -7.2475, -7.9454, -5.0207, -7.4246, -6.2495, -6.5489, -6.2878, -6.1748, -5.2278, -6.4754, -6.1463, -5.863, -6.3887, -6.5368, -5.486, -4.471, -5.7246, -5.92, -5.1755, -4.7824, -5.9508, -6.1165, -5.4629, -5.7784, -5.9434, -4.5857, -5.978, -5.4471, -5.0995, -5.6331, -6.1414, -5.9078, -6.2366, -5.8709, -5.5878, -5.6728, -5.8945, -5.8873, -6.0312, -6.0239, -6.0335, -6.0218], \"loglift\": [30.0, 29.0, 28.0, 27.0, 26.0, 25.0, 24.0, 23.0, 22.0, 21.0, 20.0, 19.0, 18.0, 17.0, 16.0, 15.0, 14.0, 13.0, 12.0, 11.0, 10.0, 9.0, 8.0, 7.0, 6.0, 5.0, 4.0, 3.0, 2.0, 1.0, 1.4528, 1.4527, 1.4509, 1.4508, 1.4506, 1.4489, 1.4459, 1.4449, 1.4424, 1.441, 1.4393, 1.438, 1.4362, 1.4352, 1.435, 1.432, 1.4315, 1.4296, 1.4293, 1.4272, 1.4271, 1.4262, 1.4242, 1.4241, 1.4241, 1.4241, 1.4233, 1.4232, 1.4224, 1.4224, 1.4195, 1.3947, 1.3918, 1.3851, 1.3926, 1.4044, 1.3365, 1.3749, 1.3928, 1.3728, 1.4015, 1.3156, 1.3891, 1.2008, 1.2545, 1.2488, 1.2655, 1.2745, 1.3429, 1.3087, 1.2794, 1.3084, 1.0777, 1.2359, 1.159, 1.2148, 1.0989, 1.2602, 1.098, 1.2296, 0.945, 0.4892, 0.8213, 0.9363, 0.9637, 0.7377, 0.9051, 1.0594, 0.7645, 0.9218, 0.7718, 0.6362, 1.0062, 0.7944, 0.7768, 0.4924, 0.2164, 0.3134, 1.5678, 1.5651, 1.5593, 1.5542, 1.5532, 1.549, 1.5443, 1.5408, 1.5391, 1.5319, 1.5316, 1.5301, 1.5188, 1.5181, 1.5142, 1.5026, 1.5018, 1.5013, 1.4976, 1.4952, 1.4941, 1.4937, 1.4925, 1.4836, 1.483, 1.4826, 1.4812, 1.4801, 1.4773, 1.4769, 1.4711, 1.4594, 1.4501, 1.4462, 1.4643, 1.426, 1.3736, 1.405, 1.4487, 1.4359, 1.337, 1.4518, 1.4221, 1.281, 1.2571, 1.3039, 1.3509, 1.3533, 1.2389, 1.345, 1.2876, 0.917, 0.9649, 0.9733, 1.1338, 1.0998, 1.1159, 0.5355, 0.8439, 0.9894, 0.738, 1.0509, 1.0585, 1.1211, 0.7341, 0.6112, 0.9517, 0.6531, 0.4695, 1.129, 1.1237, 1.1232, 1.122, 1.1204, 1.1194, 1.1176, 1.1166, 1.1162, 1.1142, 1.1115, 1.111, 1.111, 1.1105, 1.1093, 1.1091, 1.1082, 1.1078, 1.1065, 1.1062, 1.105, 1.1049, 1.1037, 1.1029, 1.1019, 1.1018, 1.1014, 1.1011, 1.1001, 1.1, 1.0947, 1.0965, 1.084, 1.0876, 1.0936, 1.0853, 1.0904, 1.0931, 1.0514, 1.0756, 1.0566, 1.0887, 1.0192, 1.0486, 1.0716, 0.9579, 0.9987, 0.967, 0.9063, 0.8283, 0.9727, 0.957, 0.7702, 0.6044, 0.8343, 0.8686, 0.9679, 0.9562, 0.9248, 0.8572, 1.0392, 0.5691, 0.5219, 0.7118, 0.4882, 0.8189, 0.358, 0.273, 0.3309, 0.389, -0.0431, 0.2118, 0.2878, 0.1509, 0.1298, 0.379, 0.2824, -0.0881, 0.4226, 2.0626, 2.0536, 2.0437, 2.0367, 2.0177, 2.0088, 1.9976, 1.9921, 1.9901, 1.9885, 1.9878, 1.9821, 1.9788, 1.9623, 1.9555, 1.941, 1.9394, 1.9376, 1.9284, 1.9246, 1.916, 1.916, 1.9135, 1.9023, 1.9011, 1.8848, 1.8845, 1.8842, 1.8687, 1.8667, 1.848, 1.8569, 1.8264, 1.8243, 1.863, 1.8264, 1.7205, 1.8228, 1.7583, 1.4883, 1.6357, 1.5451, 1.4946, 1.4902, 1.5896, 1.0163, 1.502, 1.0907, 1.4824, 1.3887, 1.3326, 1.007, 1.2332, 0.575, 0.798, 0.4157, 1.0046, 0.6911, 0.6973, 0.2799, 0.1239, 0.4691, 1.0167, 0.1722, 0.2566, 2.0633, 2.0531, 2.0414, 2.0356, 2.0321, 2.0319, 2.0157, 2.0023, 1.9982, 1.9858, 1.9856, 1.983, 1.9756, 1.966, 1.9612, 1.9591, 1.9579, 1.9568, 1.9502, 1.9447, 1.9432, 1.9413, 1.9397, 1.9388, 1.9346, 1.9268, 1.9262, 1.9205, 1.9001, 1.8992, 1.8979, 1.897, 1.8848, 1.8749, 1.8279, 1.8711, 1.8364, 1.8132, 1.8393, 1.8411, 1.6709, 1.4691, 1.6274, 1.6457, 1.4057, 1.2515, 1.6427, 1.6938, 1.4195, 1.5376, 1.6027, 0.9624, 1.5828, 1.2556, 1.024, 1.3141, 1.6358, 1.425, 1.6995, 1.1383, 0.6104, 0.7445, 1.0993, 0.6926, 1.1654, 1.0661, 0.8446, -0.0]}, \"token.table\": {\"Topic\": [1, 2, 3, 4, 5, 2, 3, 2, 3, 5, 1, 2, 3, 4, 5, 1, 2, 3, 4, 5, 5, 4, 1, 2, 3, 4, 5, 2, 5, 2, 3, 4, 5, 5, 2, 3, 5, 1, 2, 3, 4, 5, 2, 3, 3, 4, 5, 1, 2, 3, 4, 5, 1, 3, 4, 5, 4, 1, 2, 3, 4, 5, 1, 2, 3, 4, 2, 3, 5, 2, 4, 5, 1, 2, 4, 5, 1, 3, 4, 5, 1, 2, 2, 5, 3, 1, 5, 3, 4, 2, 3, 1, 3, 4, 1, 2, 3, 4, 5, 2, 5, 3, 2, 5, 1, 1, 2, 3, 4, 5, 1, 2, 5, 1, 2, 3, 5, 4, 3, 2, 3, 5, 3, 3, 4, 1, 3, 4, 3, 4, 3, 2, 4, 3, 4, 3, 1, 2, 3, 5, 2, 3, 4, 5, 2, 3, 4, 5, 1, 3, 4, 5, 4, 1, 2, 3, 4, 1, 1, 1, 2, 3, 4, 3, 4, 5, 1, 3, 4, 1, 2, 3, 4, 1, 2, 3, 4, 1, 1, 2, 1, 2, 3, 4, 5, 2, 3, 4, 2, 4, 5, 2, 3, 5, 2, 3, 4, 5, 2, 5, 2, 3, 5, 2, 5, 1, 2, 3, 4, 5, 1, 5, 2, 3, 4, 5, 2, 3, 4, 5, 5, 2, 3, 4, 3, 5, 3, 2, 4, 1, 2, 3, 4, 5, 1, 2, 3, 4, 5, 5, 3, 4, 3, 2, 5, 2, 3, 4, 5, 1, 2, 4, 2, 4, 1, 2, 4, 5, 1, 3, 4, 1, 2, 3, 4, 5, 1, 3, 4, 1, 3, 1, 1, 2, 3, 5, 1, 2, 3, 4, 5, 3, 5, 2, 1, 2, 4, 1, 1, 2, 4, 1, 4, 5, 1, 3, 4, 1, 4, 2, 3, 4, 5, 1, 2, 3, 4, 1, 2, 5, 1, 2, 5, 1, 2, 5, 1, 4, 1, 2, 3, 4, 3, 1, 2, 3, 4, 5, 1, 2, 3, 4, 5, 1, 3, 2, 3, 4, 5, 1, 3, 1, 3, 1, 1, 1, 5, 3, 4, 5, 1, 1, 2, 3, 4, 5, 1, 2, 3, 4, 5, 1, 2, 3, 4, 5, 1, 2, 3, 4, 1, 2, 4, 5, 2, 3, 4, 5, 2, 4, 2, 3, 4, 5, 2, 3, 4, 5, 2, 3, 4, 5, 2, 3, 4, 5, 2, 2, 4, 1, 2, 3, 4, 5, 1, 2, 3, 4, 5, 1, 3, 4, 5, 3, 2, 3, 4, 5, 3, 1, 3, 4, 5, 1, 2, 3, 4, 5, 2, 3, 4, 5, 2, 3, 5, 1, 2, 3, 1, 3, 4, 1, 3, 4, 5, 1, 2, 3, 4, 5, 1, 2, 3, 4, 5, 1, 2, 3, 4, 5, 1, 1, 2, 3, 4, 5, 1, 3, 4, 5, 1, 2, 3, 4, 5, 1, 2, 3, 4, 5, 1, 2, 3, 5, 2, 3, 2, 3, 5, 1, 2, 4, 1, 2, 3, 4, 5, 2, 4, 2, 3, 2, 4, 3, 4, 3, 4, 5, 2, 4, 5, 1, 2, 3, 4, 1, 2, 3, 4, 2, 3, 4, 1, 2, 3, 4, 5, 2, 3, 5, 1, 2, 3, 4, 5, 2, 4, 2, 1, 3, 4, 5, 3, 1, 3, 2, 4, 1, 2, 3, 4, 5, 1, 3, 1, 4, 2, 4, 1, 2, 3, 4, 5, 2, 3, 4, 5, 2, 3, 4, 5, 1, 2, 3, 4, 5, 3, 1, 1, 3, 4, 1, 2, 3, 4, 5, 2, 5, 2, 5, 1, 2, 3, 4, 5, 1, 2, 3, 4, 1, 1, 2, 3, 4, 5, 1, 2, 4, 5, 3, 2, 3, 4, 5, 2, 3, 4, 5, 1, 2, 4, 5, 3, 3, 1, 2, 3, 4, 5, 3, 4, 2, 3, 4, 5, 5, 2, 5, 1, 2, 3, 4, 5, 1, 2, 4, 5, 4, 2, 3, 4, 5, 1, 2, 4, 5, 4, 1, 2, 3, 4, 5, 2, 3, 4, 2, 3, 4, 5, 4, 5, 3, 5, 1, 2, 3, 1, 2, 3, 4, 5, 3, 1, 4, 4, 5, 3, 4, 1, 2, 5, 5, 3, 3, 1, 2, 3, 4, 5, 1, 3, 4, 5, 2, 3, 4, 5, 1, 2, 3, 4, 5, 3, 1, 3, 5, 1, 2, 3, 4, 5, 2, 3, 4, 5, 1, 3, 4, 1, 2, 1, 2, 3, 4, 5, 1, 2, 3, 4, 5, 2, 3, 4, 5, 1, 2, 4, 5, 5, 1, 2, 3, 4, 5, 2, 3, 4, 5, 1, 2, 3, 4, 5, 2, 3, 5, 1, 3, 2, 1, 2, 3, 4, 5, 1, 3, 4, 5, 3, 3, 4, 3, 4, 5, 1, 3, 1, 1, 2, 3, 4, 5, 2, 3, 4, 5, 2, 3, 5, 2, 4, 1, 2, 3, 4, 5, 1, 2, 3, 4, 5, 1, 1, 3, 5, 1, 3, 4, 5, 1, 1, 2, 3, 4, 5, 2, 2, 4, 5, 3, 4, 5, 2, 4, 4, 5, 1, 2, 3, 4, 5, 1, 3, 4, 5, 2, 5, 3, 5, 1, 3, 3, 2, 3, 4, 5, 4, 2, 4, 5, 2, 3, 4, 5, 1, 2, 3, 4, 5, 1, 2, 3, 4, 5, 2, 4, 1, 2, 3, 5, 2, 3, 5, 5, 1, 1, 2, 3, 4, 5, 1, 3, 1, 2, 4, 5, 1, 2, 3, 4, 5, 1, 2, 3, 4, 5, 1, 3, 4, 2, 3, 5, 1, 1, 3, 4, 1, 2, 3, 4, 5, 1, 2, 3, 4, 5, 3, 3, 1, 1, 3, 4, 2, 5, 1, 2, 3, 4, 5], \"Freq\": [0.003534264840999078, 0.5124684019448663, 0.37109780830490324, 0.02120558904599447, 0.09542515070697512, 0.7845957610445327, 0.20399489787157848, 0.7166073431137221, 0.1926363825574522, 0.09246546362757704, 0.008701855812032743, 0.5830243394061938, 0.21754639530081857, 0.05221113487219646, 0.14793154880455664, 0.017484361995351, 0.17484361995351003, 0.39339814489539754, 0.04371090498837751, 0.367171601902371, 0.929194710063765, 0.9794431946877913, 0.01564117979804605, 0.2189765171726447, 0.08602648888925328, 0.1798735676775296, 0.5083383434364966, 0.07733018504188229, 0.8506320354607052, 0.28156351428108395, 0.3120028131222822, 0.33483228725318087, 0.06848842239269609, 0.9292953575899539, 0.15413367860908483, 0.23120051791362725, 0.6011213465754309, 0.010035385077029781, 0.3713092478501019, 0.2007077015405956, 0.34120309261901255, 0.07024769553920847, 0.952773477138351, 0.03528790656067967, 0.9730777290328771, 0.08359070234674036, 0.8359070234674036, 0.03804072771664041, 0.15216291086656164, 0.566806842977942, 0.16357512918155376, 0.0836896009766089, 0.9700272268753699, 0.3979431088764669, 0.5536599775672583, 0.03460374859795364, 0.8967305439608088, 0.06005597255439059, 0.6305877118211012, 0.18016791766317175, 0.06005597255439059, 0.06005597255439059, 0.208720123781765, 0.05218003094544125, 0.13914674918784334, 0.6087670276968146, 0.9329649517552177, 0.08985457536997173, 0.8086911783297456, 0.13525529165506622, 0.033813822913766556, 0.8115317499303973, 0.10859057916849092, 0.6264841105874477, 0.10859057916849092, 0.15870930801548674, 0.6618248394745201, 0.2905572465985698, 0.02421310388321415, 0.0322841385109522, 0.9715235662110071, 0.9555709325556456, 0.8800958080146252, 0.05500598800091407, 0.9870672228767966, 0.9454452881525889, 0.027807214357429083, 0.9530041846640817, 0.030254101100447038, 0.8560834531293221, 0.12750179089160116, 0.8403097983337436, 0.10892904793215195, 0.031122585123471987, 0.13292865408738863, 0.03467704019671008, 0.34099089526764914, 0.24851878807642225, 0.24851878807642225, 0.9662989235876276, 0.025428919041779675, 0.9618179614138382, 0.0638941125751272, 0.9264646323393444, 0.9735003530276853, 0.10987764301333923, 0.5398336374133623, 0.12898679832000692, 0.1480959536266746, 0.07165933240000384, 0.04333522694388208, 0.04333522694388208, 0.8667045388776417, 0.6006410998060879, 0.09193486221521753, 0.30032054990304397, 0.006128990814347836, 0.9558216473080511, 0.9715751806410012, 0.12149472579140401, 0.273363133030659, 0.6074736289570201, 0.9791233846928176, 0.16265419193622652, 0.8132709596811325, 0.09789597887384877, 0.04894798943692438, 0.8321158204277145, 0.1846307255911838, 0.7754490474829719, 0.977000844153378, 0.11167288106653564, 0.85615875484344, 0.9557279880019952, 0.028961454181878645, 0.9699530870797974, 0.06424803731573572, 0.0871937649284985, 0.7939221754015915, 0.055069746270630625, 0.09401443040415428, 0.04700721520207714, 0.07051082280311571, 0.7756190508342727, 0.10467924917312713, 0.034893083057709044, 0.06978616611541809, 0.767647827269599, 0.1543691361210897, 0.12349530889687177, 0.07203893018984187, 0.6586416474499828, 0.8853360385895102, 0.9182561730187144, 0.04832927226414287, 0.024164636132071433, 0.8986963379224969, 0.9636119521118187, 0.9666732823702409, 0.05024372377820735, 0.7871516725252485, 0.13398326340855293, 0.03349581585213823, 0.9699754915419417, 0.04186728931580006, 0.9629476542634013, 0.9673429775983491, 0.16532857995940298, 0.8266428997970149, 0.18181855497152996, 0.024793439314299538, 0.09917375725719815, 0.6942163008003871, 0.09771760160699505, 0.09771760160699505, 0.048858800803497526, 0.7817408128559604, 0.9672861933612691, 0.9250739647050289, 0.03426199869277884, 0.5857893206934459, 0.053742139513160175, 0.29558176732238095, 0.04836792556184416, 0.01612264185394805, 0.054025513996071084, 0.7563571959449952, 0.1890892989862488, 0.06026473706257862, 0.06026473706257862, 0.8437063188761007, 0.026667849927939823, 0.9467086724418637, 0.026667849927939823, 0.5485882895866889, 0.2021114751108854, 0.15158360633316403, 0.09383747058719678, 0.9327568512900258, 0.07462054810320207, 0.9515599835902208, 0.9889064839202653, 0.9284735647923434, 0.9268108550604939, 0.9493243837830896, 0.07762613232457263, 0.6382593102242639, 0.02587537744152421, 0.04312562906920702, 0.21562814534603508, 0.9535309292383165, 0.018696684887025816, 0.15686397205650496, 0.26546210655716224, 0.01206645938896192, 0.5671235912812103, 0.2456422548185365, 0.7274789854241274, 0.009447779031482173, 0.018895558062964345, 0.9720099865486699, 0.12666161907677342, 0.06333080953838671, 0.8233005239990272, 0.9615488186255147, 0.025987805908797693, 0.9662542120396852, 0.11983838598986164, 0.8388687019290315, 0.038096306532273486, 0.05714445979841022, 0.19048153266136741, 0.6285890577825125, 0.07619261306454697, 0.28444188141963506, 0.09922391212312852, 0.3968956484925141, 0.0959164483856909, 0.12237615828519184, 0.9318655713989229, 0.9496159032346988, 0.048285554401764345, 0.9715701540193231, 0.05436002124235928, 0.9241203611201076, 0.2613855971653898, 0.058811759362212696, 0.24831631730712028, 0.4312862353228931, 0.3345434421872316, 0.18734432762484968, 0.46836081906212423, 0.11353208128826489, 0.8514906096619866, 0.010050193841931437, 0.8090406042754806, 0.0552760661306229, 0.12562742302414295, 0.8735860752508352, 0.104189164938173, 0.016029102298180463, 0.7969226538374554, 0.016836394095157508, 0.14030328412631257, 0.016836394095157508, 0.028060656825262514, 0.8135634681914454, 0.12845738971443876, 0.05709217320641723, 0.9088601157871679, 0.05863613650239793, 0.9862450326969329, 0.031085614203952398, 0.07253309980922226, 0.8703971977106671, 0.020723742802634934, 0.011825717828918643, 0.34294581703864063, 0.0827800248024305, 0.5439830201302576, 0.023651435657837287, 0.9640870350822458, 0.02472018038672425, 0.9676132581134448, 0.06138680909446354, 0.15346702273615886, 0.7673351136807943, 0.9827495596585367, 0.10410989890991244, 0.8707373363374495, 0.01892907252907499, 0.0746976260762852, 0.0746976260762852, 0.8216738868391373, 0.8534756753893015, 0.12192509648418592, 0.02032084941403099, 0.01970352071396224, 0.9654725149841497, 0.3284858119223443, 0.2219498729205029, 0.07102395933456092, 0.38175378142326494, 0.06415114259503979, 0.010691857099173299, 0.021383714198346598, 0.898115996330557, 0.9648742846864272, 0.05709029885305453, 0.9134447816488724, 0.9735530159748332, 0.2325244845147366, 0.7626803092083361, 0.945728414480572, 0.921138438139642, 0.06140922920930947, 0.980712229279497, 0.9457931726056653, 0.07646695338815282, 0.10923850484021831, 0.8083649358176155, 0.010923850484021832, 0.968206890359246, 0.020201386329675306, 0.22221524962642836, 0.2676683688681978, 0.3434235676044802, 0.15151039747256478, 0.4797117251175142, 0.08158362672066567, 0.21864411961138402, 0.14032383795954498, 0.08158362672066567, 0.6901508838471434, 0.31124451624479016, 0.20504940033257157, 0.3661596434510207, 0.08787831442824497, 0.3405284684094492, 0.933113305044093, 0.062207553669606196, 0.9646827249142212, 0.031118797577878103, 0.9715195133875305, 0.9785864560032995, 0.9673118811500621, 0.9288830198121034, 0.2769443032388642, 0.05934520783689947, 0.6725790221515273, 0.9673105146627554, 0.21104699622650952, 0.29363060344557845, 0.2569267780148812, 0.16057923625930073, 0.07799562904023179, 0.3128331251506031, 0.0893808929001723, 0.5213885419176717, 0.04469044645008615, 0.03351783483756461, 0.37587265937241715, 0.06834048352225766, 0.47411210443566254, 0.06834048352225766, 0.017085120880564415, 0.8433965499384947, 0.04362395947957731, 0.01454131982652577, 0.08724791895915462, 0.0125089357164055, 0.2626876500445155, 0.0875625500148385, 0.625446785820275, 0.05542121150961875, 0.08313181726442812, 0.027710605754809374, 0.8313181726442812, 0.91757615660949, 0.07646467971745749, 0.8769022751296113, 0.061898984126796085, 0.030949492063398042, 0.02063299470893203, 0.12015027662293462, 0.030037569155733655, 0.06007513831146731, 0.780976798049075, 0.08524671344989543, 0.08524671344989543, 0.02841557114996514, 0.7956359921990239, 0.12532559426600232, 0.025065118853200462, 0.7268884467428134, 0.12532559426600232, 0.9124281865520277, 0.9006358792457577, 0.07205087033966062, 0.07479259362041481, 0.7396156480241021, 0.13296461088073744, 0.01662057636009218, 0.03324115272018436, 0.12251457564025978, 0.011668054822881883, 0.8342659198360546, 0.023336109645763766, 0.0058340274114409415, 0.015925908725046487, 0.27074044832579025, 0.07962954362523243, 0.6370363490018595, 0.9641528085474509, 0.0075733547114400284, 0.8406423729698432, 0.0530134829800802, 0.09845361124872037, 0.9840751550571748, 0.7843593328405665, 0.15466240365870326, 0.011047314547050232, 0.04418925818820093, 0.590137740892805, 0.010444915768014248, 0.28723518362039185, 0.06266949460808549, 0.04700212095606412, 0.14632255639855926, 0.3365418797166863, 0.49749669175510147, 0.014632255639855925, 0.9268720268939394, 0.9738167686217333, 0.019476335372434664, 0.03618913688755974, 0.0542837053313396, 0.9047284221889934, 0.01633791399771122, 0.9475990118672509, 0.01633791399771122, 0.49629338380688276, 0.4411496744950069, 0.04901663049944521, 0.018381236437291955, 0.6231736846882027, 0.008199653745897404, 0.2049913436474351, 0.10659549869666625, 0.057397576221281825, 0.08435262992491928, 0.4097127739210365, 0.03615112711067969, 0.42176314962459643, 0.04820150281423959, 0.5076450818101635, 0.04333555576428225, 0.26620412826630524, 0.148579048334682, 0.0371447620836705, 0.9636134092945488, 0.6729679467566954, 0.008412099334458691, 0.2018903840270086, 0.05047259600675215, 0.06729679467566953, 0.804365130476897, 0.17874780677264376, 0.0059582602257547915, 0.011916520451509583, 0.015573759444403201, 0.46721278333209604, 0.18688511333283842, 0.038934398611008, 0.2881145497214592, 0.6853187579955456, 0.12320337222391833, 0.10780295069592853, 0.04620126458396937, 0.03850105381997448, 0.9216641317145458, 0.023333269157330274, 0.04666653831466055, 0.011666634578665137, 0.9463350098252611, 0.037853400393010446, 0.8933280768254311, 0.05955520512169541, 0.029777602560847705, 0.031600305801417004, 0.9164088682410931, 0.031600305801417004, 0.4310720089721976, 0.02120026273633759, 0.4593390259539811, 0.08126767382262742, 0.0035333771227229315, 0.8573270627683449, 0.14288784379472416, 0.8915990672468889, 0.04953328151371605, 0.9711094662229753, 0.9612811699009854, 0.9475691736022063, 0.044072984818707264, 0.0450390137114084, 0.900780274228168, 0.0450390137114084, 0.8314944485995286, 0.05939246061425204, 0.09898743435708673, 0.030186579178318015, 0.0804975444755147, 0.8452242169929044, 0.030186579178318015, 0.04992157113354104, 0.07131653019077291, 0.5134790173735649, 0.37084595699201917, 0.04126032190406048, 0.12378096571218145, 0.7839461161771492, 0.17054687754266518, 0.1550426159478774, 0.46512784784363226, 0.19638731353397806, 0.010336174396525162, 0.5271464234042355, 0.42982708369883815, 0.0324397799017991, 0.007752355833222583, 0.612436110824584, 0.16279947249767424, 0.03100942333289033, 0.18605653999734198, 0.9206371529561361, 0.07464625564509213, 0.9552194880623692, 0.031245494269590987, 0.9061193338181386, 0.015622747134795494, 0.031245494269590987, 0.9855694515768121, 0.922999896090568, 0.07178888080704417, 0.1349319751873767, 0.8545691761867191, 0.11454560135227115, 0.12981834819924065, 0.7330918486545354, 0.010181831231312992, 0.01272728903914124, 0.7597472692528925, 0.23701517374128697, 0.2011984275416796, 0.7880271745382451, 0.04914357541948214, 0.8845843575506784, 0.023176665839269955, 0.42645065144256716, 0.42645065144256716, 0.11124799602849578, 0.013905999503561972, 0.14878301423524412, 0.8307051628134463, 0.012398584519603677, 0.012398584519603677, 0.019136457946611955, 0.2105010374127315, 0.13395520562628369, 0.6315031122381944, 0.49048562211653224, 0.007847769953864516, 0.42770346248561614, 0.05101050470011935, 0.02354330986159355, 0.9663057504606776, 0.9538625526127226, 0.14491190687719271, 0.8332434645438581, 0.01811398835964909, 0.07700408974214207, 0.33689289262187155, 0.12513164583098085, 0.10588062339544535, 0.35614391505740706, 0.0740273665538515, 0.9130041874975018, 0.17591675416581565, 0.8041908761865858, 0.2409477770467996, 0.1468275516378935, 0.4442474639300367, 0.12423869753975604, 0.04141289917991868, 0.898056485890793, 0.018709510122724853, 0.018709510122724853, 0.037419020245449706, 0.9892182418587576, 0.567956392180365, 0.08414168773042445, 0.1682833754608489, 0.07362397676412138, 0.10517710966303057, 0.023526110547062967, 0.8469399796942668, 0.058815276367657425, 0.058815276367657425, 0.9910664355618178, 0.9124146689882813, 0.9302865219297197, 0.02114287549840272, 0.02114287549840272, 0.0592895681478265, 0.8419118676991364, 0.0474316545182612, 0.0474316545182612, 0.14621412750335688, 0.026584386818792157, 0.5848565100134275, 0.23925948136912942, 0.9641653665390169, 0.9730728856465549, 0.013463961318313804, 0.06731980659156901, 0.6900280175635825, 0.18849545845639323, 0.03702589362536296, 0.08277757348661757, 0.8277757348661757, 0.27265874060211903, 0.23857639802685415, 0.3408234257526488, 0.15337054158869196, 0.8136632596027112, 0.8878548264764058, 0.0522267544986121, 0.047151704740253104, 0.7544272758440497, 0.011787926185063276, 0.10609133566556948, 0.08251548329544293, 0.015912370641915658, 0.7956185320957829, 0.06364948256766263, 0.12729896513532526, 0.8652659625199471, 0.5383777062110534, 0.21708778476252155, 0.09117686960025906, 0.1519614493337651, 0.010460296882017422, 0.8891252349714809, 0.010460296882017422, 0.08368237505613937, 0.8994169772377766, 0.00885459167344849, 0.5932576421210489, 0.07969132506103642, 0.15938265012207284, 0.15938265012207284, 0.8639057222027756, 0.08860571509772057, 0.044302857548860285, 0.32867644939762325, 0.4133355348485262, 0.14939838608982875, 0.10955881646587441, 0.051799027529913104, 0.8805834680085228, 0.9459929587657173, 0.04614599798857158, 0.11248769967926621, 0.8717796725143131, 0.9819128675755999, 0.05486354552553292, 0.7406578645946944, 0.10972709105106584, 0.05486354552553292, 0.04114765914414969, 0.9902533534287866, 0.0601199457977758, 0.901799186966637, 0.10877520505709387, 0.870201640456751, 0.10742220559687038, 0.859377644774963, 0.05487497704741401, 0.9054371212823311, 0.027437488523707004, 0.9793676529466837, 0.9867890167564684, 0.9641848068416474, 0.03883918704235075, 0.7088151635229012, 0.058258780563526125, 0.155356748169403, 0.048548983802938435, 0.15488227336468066, 0.1393940460282126, 0.06195290934587227, 0.6350173207951907, 0.9483276557041729, 0.034694914233079494, 0.05179804583127169, 0.8805667791316187, 0.49631652871935555, 0.018728925612051153, 0.2809338841807673, 0.10300909086628134, 0.09832685946326855, 0.9618152865536397, 0.821837721714045, 0.164367544342809, 0.009668679078988765, 0.3732017241962024, 0.017416080462489446, 0.5859267069880377, 0.003732017241962024, 0.019904091957130794, 0.8659792137868282, 0.05093995375216637, 0.008489992292027728, 0.07640993062824955, 0.9235707754728872, 0.02638773644208249, 0.05277547288416498, 0.054832205450476595, 0.9321474926581022, 0.17474099523299505, 0.04077289888769884, 0.4892747866523861, 0.2737608925316922, 0.017474099523299504, 0.01117841437648633, 0.10060572938837697, 0.25710353065918556, 0.5477423044478301, 0.08942731501189063, 0.058409771939481714, 0.3337701253684669, 0.14185230328159845, 0.458933922381642, 0.13497649940935352, 0.26995299881870705, 0.07362354513237464, 0.5153648159266225, 0.9027195155427027, 0.009824191652680576, 0.427352336891605, 0.21613221635897267, 0.08841772487412518, 0.26034107879603524, 0.4176189080704315, 0.11778994843012171, 0.06424906278006638, 0.39620255381040936, 0.016253622398252315, 0.048760867194756946, 0.07314130079213542, 0.04063405599563079, 0.8208079311117419, 0.8852935947349815, 0.026827078628332772, 0.10730831451333109, 0.9433915034313545, 0.04965218439112392, 0.9728935132112074, 0.34535713520245903, 0.4730919660307658, 0.10881115218707613, 0.052040116263384235, 0.014192758980922975, 0.7838269279627937, 0.1621710885440263, 0.04054277213600657, 0.013514257378668857, 0.9834906253879758, 0.9642240689991614, 0.0244107359240294, 0.9661384095953532, 0.023564351453545202, 0.023564351453545202, 0.07688368242452447, 0.9097902420235394, 0.9636114995952519, 0.008238496669676666, 0.34807648429383914, 0.3068840009454558, 0.014417369171934166, 0.32130137011738996, 0.12191863489722708, 0.292604723753345, 0.04876745395889083, 0.5333940276753685, 0.051895429214871024, 0.1902832404545271, 0.7611329618181084, 0.04913842279521854, 0.8844916103139336, 0.11160285355390585, 0.013950356694238232, 0.05580142677695293, 0.7672696181831027, 0.05580142677695293, 0.014498135375445444, 0.11598508300356355, 0.10148694762811811, 0.7684011748986085, 0.014498135375445444, 0.9636307676968369, 0.8797293083496192, 0.091638469619752, 0.018327693923950398, 0.7736358830341794, 0.07627396029914445, 0.021792560085469842, 0.14165164055555396, 0.9636158843839899, 0.021028632682852193, 0.7780594092655312, 0.08411453073140877, 0.05607635382093919, 0.06308589804855659, 0.9898668422100136, 0.3934965623413289, 0.10416085473741059, 0.5034441312308179, 0.08996149283694393, 0.7796662712535142, 0.14993582139490655, 0.4367302916762643, 0.5415455616785677, 0.9612679553793532, 0.9193054150886832, 0.8081720621791844, 0.014303930304056361, 0.10012751212839453, 0.050063756064197266, 0.028607860608112722, 0.06729378039059677, 0.11215630065099463, 0.1570188209113925, 0.6729378039059678, 0.1299187708834625, 0.8228188822619291, 0.11164762317537669, 0.8559651110112212, 0.95835032213249, 0.0342267972190175, 0.9757545118362277, 0.026924671016248552, 0.10769868406499421, 0.8077401304874565, 0.053849342032497104, 0.9803513943478118, 0.047028820252474145, 0.8935475847970087, 0.047028820252474145, 0.11046985259596999, 0.4217939826391581, 0.036823284198656665, 0.42848912522073207, 0.024527681120644067, 0.08175893706881356, 0.3433875356890169, 0.5477848783610508, 0.7725953846320719, 0.2485710152964011, 0.3748293087802874, 0.07891143342742893, 0.07102029008468604, 0.22489758526817244, 0.8829547835330694, 0.08026861668482449, 0.8251168239257767, 0.023574766397879334, 0.141448598387276, 0.011787383198939667, 0.09619443178516039, 0.048097215892580196, 0.8657498860664435, 0.9423156841257166, 0.9666739327377708, 0.033754372259765374, 0.1620209868468738, 0.7628488130706975, 0.033754372259765374, 0.01350174890390615, 0.9232652116403782, 0.06839001567706506, 0.5776901524888852, 0.30113635608463163, 0.030728199600472614, 0.09218459880141784, 0.5202757033546538, 0.09459558242811886, 0.23648895607029716, 0.10551045732367104, 0.04729779121405943, 0.11521171784618994, 0.05236896265735907, 0.7384023734687628, 0.06284275518883088, 0.03142137759441544, 0.7261851345512743, 0.24690294574743327, 0.02178555403653823, 0.08307089190468456, 0.8860895136499686, 0.027690297301561518, 0.970605440970646, 0.9009669057319355, 0.07207735245855484, 0.01801933811463871, 0.2840711620848858, 0.22570037535511475, 0.1673295886253437, 0.21791760379114528, 0.1050674161135879, 0.10933656885426443, 0.17962436311772015, 0.5388730893531604, 0.14838534344507315, 0.023429264754485236, 0.9744586381020764, 0.9757574902516142, 0.9511281587155568, 0.015866157947773643, 0.9202371609708713, 0.06346463179109457, 0.9206462217865271, 0.061376414785768475, 0.06735380081113373, 0.20879678251451458, 0.6533318678679972, 0.06061842073002036, 0.013470760162226746], \"Term\": [\"000\", \"000\", \"000\", \"000\", \"000\", \"1959\", \"1959\", \"1960\", \"1960\", \"1960\", \"1961\", \"1961\", \"1961\", \"1961\", \"1961\", \"30\", \"30\", \"30\", \"30\", \"30\", \"62\", \"academic\", \"act\", \"act\", \"act\", \"act\", \"act\", \"adjustments\", \"adjustments\", \"administration\", \"administration\", \"administration\", \"administration\", \"adopting\", \"agreement\", \"agreement\", \"agreement\", \"aid\", \"aid\", \"aid\", \"aid\", \"aid\", \"aircraft\", \"aircraft\", \"alexander\", \"allocation\", \"allocation\", \"american\", \"american\", \"american\", \"american\", \"american\", \"anne\", \"anti\", \"anti\", \"anti\", \"appearances\", \"areas\", \"areas\", \"areas\", \"areas\", \"areas\", \"art\", \"art\", \"art\", \"art\", \"assessment\", \"assigned\", \"assigned\", \"authorized\", \"authorized\", \"authorized\", \"available\", \"available\", \"available\", \"available\", \"away\", \"away\", \"away\", \"away\", \"baby\", \"bankers\", \"banks\", \"banks\", \"baseball\", \"bed\", \"bed\", \"berlin\", \"berlin\", \"billion\", \"billion\", \"black\", \"black\", \"black\", \"board\", \"board\", \"board\", \"board\", \"board\", \"boats\", \"boats\", \"bombs\", \"bonds\", \"bonds\", \"bride\", \"business\", \"business\", \"business\", \"business\", \"business\", \"calendar\", \"calendar\", \"calendar\", \"came\", \"came\", \"came\", \"came\", \"campus\", \"captain\", \"cars\", \"cars\", \"cars\", \"castro\", \"catholic\", \"catholic\", \"cattle\", \"cattle\", \"cattle\", \"chamber\", \"chamber\", \"charter\", \"chemical\", \"chemical\", \"china\", \"china\", \"chinese\", \"city\", \"city\", \"city\", \"city\", \"claim\", \"claim\", \"claim\", \"claim\", \"claims\", \"claims\", \"claims\", \"claims\", \"class\", \"class\", \"class\", \"class\", \"classical\", \"clay\", \"clay\", \"clay\", \"clerical\", \"cloth\", \"clothes\", \"co\", \"co\", \"co\", \"co\", \"coach\", \"coal\", \"coal\", \"coat\", \"collective\", \"collective\", \"college\", \"college\", \"college\", \"college\", \"colleges\", \"colleges\", \"colleges\", \"colleges\", \"colored\", \"colors\", \"colors\", \"come\", \"come\", \"come\", \"come\", \"come\", \"committee\", \"committee\", \"committee\", \"commodities\", \"commodities\", \"commodities\", \"communist\", \"communist\", \"communist\", \"company\", \"company\", \"company\", \"company\", \"compared\", \"compared\", \"components\", \"congo\", \"connections\", \"conservation\", \"coordination\", \"cost\", \"cost\", \"cost\", \"cost\", \"cost\", \"couldn\", \"couldn\", \"countries\", \"countries\", \"countries\", \"countries\", \"county\", \"county\", \"county\", \"county\", \"cousin\", \"creative\", \"creative\", \"creative\", \"cuba\", \"cuba\", \"cuban\", \"curriculum\", \"curriculum\", \"daily\", \"daily\", \"daily\", \"daily\", \"daily\", \"day\", \"day\", \"day\", \"day\", \"day\", \"definition\", \"democratic\", \"democratic\", \"democrats\", \"denied\", \"denied\", \"department\", \"department\", \"department\", \"department\", \"design\", \"design\", \"design\", \"designer\", \"designer\", \"development\", \"development\", \"development\", \"development\", \"didn\", \"didn\", \"didn\", \"don\", \"don\", \"don\", \"don\", \"don\", \"door\", \"door\", \"door\", \"drill\", \"drill\", \"dry\", \"east\", \"east\", \"east\", \"east\", \"education\", \"education\", \"education\", \"education\", \"education\", \"eisenhower\", \"eisenhower\", \"electronic\", \"engineer\", \"engineer\", \"engineer\", \"entrance\", \"equipment\", \"equipment\", \"equipment\", \"exercise\", \"exercise\", \"exercise\", \"eyes\", \"eyes\", \"eyes\", \"faculty\", \"faculty\", \"federal\", \"federal\", \"federal\", \"federal\", \"feed\", \"feed\", \"feed\", \"feed\", \"fig\", \"filing\", \"filing\", \"fingers\", \"fiscal\", \"fiscal\", \"flowers\", \"forests\", \"forests\", \"frames\", \"fulfill\", \"game\", \"game\", \"game\", \"game\", \"gen\", \"general\", \"general\", \"general\", \"general\", \"general\", \"good\", \"good\", \"good\", \"good\", \"good\", \"got\", \"got\", \"government\", \"government\", \"government\", \"government\", \"guests\", \"guests\", \"hadn\", \"hadn\", \"hair\", \"ham\", \"handsome\", \"hated\", \"hearing\", \"hearing\", \"hearing\", \"hell\", \"high\", \"high\", \"high\", \"high\", \"high\", \"home\", \"home\", \"home\", \"home\", \"home\", \"house\", \"house\", \"house\", \"house\", \"house\", \"inch\", \"inch\", \"inch\", \"inch\", \"income\", \"income\", \"income\", \"income\", \"india\", \"india\", \"india\", \"india\", \"industrial\", \"industrial\", \"industry\", \"industry\", \"industry\", \"industry\", \"insurance\", \"insurance\", \"insurance\", \"insurance\", \"interference\", \"interference\", \"interference\", \"interference\", \"interior\", \"interior\", \"interior\", \"interior\", \"inventories\", \"investment\", \"investment\", \"island\", \"island\", \"island\", \"island\", \"island\", \"john\", \"john\", \"john\", \"john\", \"john\", \"junior\", \"junior\", \"junior\", \"junior\", \"katanga\", \"kennedy\", \"kennedy\", \"kennedy\", \"kennedy\", \"khrushchev\", \"knew\", \"knew\", \"knew\", \"knew\", \"know\", \"know\", \"know\", \"know\", \"know\", \"labor\", \"labor\", \"labor\", \"labor\", \"laboratory\", \"laos\", \"laos\", \"leaders\", \"leaders\", \"leaders\", \"league\", \"league\", \"league\", \"left\", \"left\", \"left\", \"left\", \"let\", \"let\", \"let\", \"let\", \"let\", \"level\", \"level\", \"level\", \"level\", \"level\", \"life\", \"life\", \"life\", \"life\", \"life\", \"liked\", \"little\", \"little\", \"little\", \"little\", \"little\", \"ll\", \"ll\", \"ll\", \"ll\", \"local\", \"local\", \"local\", \"local\", \"local\", \"look\", \"look\", \"look\", \"look\", \"look\", \"looked\", \"looked\", \"looked\", \"looked\", \"machine\", \"machine\", \"machinery\", \"machinery\", \"machinery\", \"machines\", \"machines\", \"machines\", \"man\", \"man\", \"man\", \"man\", \"man\", \"manufacturers\", \"manufacturers\", \"manufacturing\", \"manufacturing\", \"marketing\", \"mathematics\", \"mayor\", \"mayor\", \"meat\", \"meat\", \"meat\", \"medical\", \"medical\", \"medical\", \"meeting\", \"meeting\", \"meeting\", \"meeting\", \"members\", \"members\", \"members\", \"members\", \"membership\", \"membership\", \"membership\", \"men\", \"men\", \"men\", \"men\", \"men\", \"military\", \"military\", \"military\", \"million\", \"million\", \"million\", \"million\", \"million\", \"missile\", \"missile\", \"missiles\", \"monday\", \"monday\", \"monday\", \"monday\", \"moscow\", \"mother\", \"mother\", \"motors\", \"motors\", \"mr\", \"mr\", \"mr\", \"mr\", \"mr\", \"mrs\", \"mrs\", \"music\", \"music\", \"musical\", \"musical\", \"national\", \"national\", \"national\", \"national\", \"national\", \"nations\", \"nations\", \"nations\", \"nations\", \"officer\", \"officer\", \"officer\", \"officer\", \"old\", \"old\", \"old\", \"old\", \"old\", \"opposition\", \"pale\", \"party\", \"party\", \"party\", \"pay\", \"pay\", \"pay\", \"pay\", \"pay\", \"payment\", \"payment\", \"payments\", \"payments\", \"people\", \"people\", \"people\", \"people\", \"people\", \"pieces\", \"pieces\", \"pieces\", \"pieces\", \"pink\", \"place\", \"place\", \"place\", \"place\", \"place\", \"planning\", \"planning\", \"planning\", \"planning\", \"player\", \"polaris\", \"police\", \"police\", \"police\", \"political\", \"political\", \"political\", \"political\", \"pool\", \"pool\", \"pool\", \"pool\", \"pope\", \"premier\", \"president\", \"president\", \"president\", \"president\", \"president\", \"prestige\", \"prestige\", \"problem\", \"problem\", \"problem\", \"problem\", \"proceedings\", \"procurement\", \"procurement\", \"production\", \"production\", \"production\", \"production\", \"production\", \"products\", \"products\", \"products\", \"products\", \"professors\", \"program\", \"program\", \"program\", \"program\", \"property\", \"property\", \"property\", \"property\", \"prosperity\", \"provide\", \"provide\", \"provide\", \"provide\", \"provide\", \"providence\", \"providence\", \"providence\", \"public\", \"public\", \"public\", \"public\", \"puerto\", \"puerto\", \"race\", \"race\", \"radiation\", \"radiation\", \"railroad\", \"range\", \"range\", \"range\", \"range\", \"range\", \"rayburn\", \"recognition\", \"recognition\", \"recommendation\", \"recommendation\", \"recorded\", \"recorded\", \"recreation\", \"recreation\", \"recreation\", \"rehabilitation\", \"republican\", \"republicans\", \"research\", \"research\", \"research\", \"research\", \"research\", \"return\", \"return\", \"return\", \"return\", \"rhode\", \"rhode\", \"rico\", \"rico\", \"right\", \"right\", \"right\", \"right\", \"right\", \"robinson\", \"room\", \"room\", \"room\", \"said\", \"said\", \"said\", \"said\", \"said\", \"sales\", \"sales\", \"sales\", \"sales\", \"sat\", \"sat\", \"sat\", \"savings\", \"savings\", \"school\", \"school\", \"school\", \"school\", \"school\", \"schools\", \"schools\", \"schools\", \"schools\", \"schools\", \"secretary\", \"secretary\", \"secretary\", \"secretary\", \"section\", \"section\", \"section\", \"section\", \"sectors\", \"service\", \"service\", \"service\", \"service\", \"service\", \"services\", \"services\", \"services\", \"services\", \"shall\", \"shall\", \"shall\", \"shall\", \"shall\", \"shares\", \"shares\", \"shares\", \"shelter\", \"shelter\", \"shipments\", \"small\", \"small\", \"small\", \"small\", \"small\", \"son\", \"son\", \"son\", \"son\", \"southern\", \"soviet\", \"soviet\", \"speaker\", \"speaker\", \"speaker\", \"st\", \"st\", \"stared\", \"state\", \"state\", \"state\", \"state\", \"state\", \"states\", \"states\", \"states\", \"states\", \"stations\", \"stations\", \"stations\", \"stockholders\", \"stockholders\", \"student\", \"student\", \"student\", \"student\", \"student\", \"students\", \"students\", \"students\", \"students\", \"students\", \"studio\", \"sun\", \"sun\", \"sun\", \"sure\", \"sure\", \"sure\", \"sure\", \"sweet\", \"system\", \"system\", \"system\", \"system\", \"system\", \"systems\", \"tax\", \"tax\", \"tax\", \"teachers\", \"teachers\", \"teachers\", \"technical\", \"technical\", \"tends\", \"thereof\", \"thought\", \"thought\", \"thought\", \"thought\", \"thought\", \"title\", \"title\", \"title\", \"title\", \"tractor\", \"tractor\", \"treasury\", \"treasury\", \"trees\", \"trees\", \"troops\", \"trust\", \"trust\", \"trust\", \"trust\", \"trustees\", \"unions\", \"unions\", \"unions\", \"united\", \"united\", \"united\", \"united\", \"university\", \"university\", \"university\", \"university\", \"upstairs\", \"use\", \"use\", \"use\", \"use\", \"use\", \"utility\", \"utility\", \"ve\", \"ve\", \"ve\", \"ve\", \"vehicles\", \"vehicles\", \"vehicles\", \"vocational\", \"walls\", \"war\", \"war\", \"war\", \"war\", \"war\", \"wasn\", \"wasn\", \"water\", \"water\", \"water\", \"water\", \"way\", \"way\", \"way\", \"way\", \"way\", \"week\", \"week\", \"week\", \"week\", \"week\", \"went\", \"went\", \"went\", \"west\", \"west\", \"west\", \"windows\", \"woman\", \"woman\", \"woman\", \"work\", \"work\", \"work\", \"work\", \"work\", \"world\", \"world\", \"world\", \"world\", \"world\", \"yankees\", \"yards\", \"yellow\", \"yesterday\", \"yesterday\", \"yesterday\", \"yield\", \"yield\", \"york\", \"york\", \"york\", \"york\", \"york\"]}, \"R\": 30, \"lambda.step\": 0.01, \"plot.opts\": {\"xlab\": \"PC1\", \"ylab\": \"PC2\"}, \"topic.order\": [1, 2, 3, 4, 5]};\n",
       "\n",
       "function LDAvis_load_lib(url, callback){\n",
       "  var s = document.createElement('script');\n",
       "  s.src = url;\n",
       "  s.async = true;\n",
       "  s.onreadystatechange = s.onload = callback;\n",
       "  s.onerror = function(){console.warn(\"failed to load library \" + url);};\n",
       "  document.getElementsByTagName(\"head\")[0].appendChild(s);\n",
       "}\n",
       "\n",
       "if(typeof(LDAvis) !== \"undefined\"){\n",
       "   // already loaded: just create the visualization\n",
       "   !function(LDAvis){\n",
       "       new LDAvis(\"#\" + \"ldavis_el31269111442598248362252420\", ldavis_el31269111442598248362252420_data);\n",
       "   }(LDAvis);\n",
       "}else if(typeof define === \"function\" && define.amd){\n",
       "   // require.js is available: use it to load d3/LDAvis\n",
       "   require.config({paths: {d3: \"https://d3js.org/d3.v5\"}});\n",
       "   require([\"d3\"], function(d3){\n",
       "      window.d3 = d3;\n",
       "      LDAvis_load_lib(\"https://cdn.jsdelivr.net/gh/bmabey/pyLDAvis@3.4.0/pyLDAvis/js/ldavis.v3.0.0.js\", function(){\n",
       "        new LDAvis(\"#\" + \"ldavis_el31269111442598248362252420\", ldavis_el31269111442598248362252420_data);\n",
       "      });\n",
       "    });\n",
       "}else{\n",
       "    // require.js not available: dynamically load d3 & LDAvis\n",
       "    LDAvis_load_lib(\"https://d3js.org/d3.v5.js\", function(){\n",
       "         LDAvis_load_lib(\"https://cdn.jsdelivr.net/gh/bmabey/pyLDAvis@3.4.0/pyLDAvis/js/ldavis.v3.0.0.js\", function(){\n",
       "                 new LDAvis(\"#\" + \"ldavis_el31269111442598248362252420\", ldavis_el31269111442598248362252420_data);\n",
       "            })\n",
       "         });\n",
       "}\n",
       "</script>"
      ],
      "text/plain": [
       "<IPython.core.display.HTML object>"
      ]
     },
     "execution_count": 33,
     "metadata": {},
     "output_type": "execute_result"
    }
   ],
   "source": [
    "pyLDAvis.display(lda_display)"
   ]
  },
  {
   "cell_type": "markdown",
   "id": "a3d14c87",
   "metadata": {},
   "source": [
    "Q: What conclusions do you draw from the visualization above? Please address the principal component scatterplot and the salient terms graph.\n",
    "\n",
    "A: <!-- Your answer here --> \n"
   ]
  }
 ],
 "metadata": {
  "kernelspec": {
   "display_name": "Python 3",
   "language": "python",
   "name": "python3"
  },
  "language_info": {
   "codemirror_mode": {
    "name": "ipython",
    "version": 3
   },
   "file_extension": ".py",
   "mimetype": "text/x-python",
   "name": "python",
   "nbconvert_exporter": "python",
   "pygments_lexer": "ipython3",
   "version": "3.11.1"
  },
  "vscode": {
   "interpreter": {
    "hash": "aee8b7b246df8f9039afb4144a1f6fd8d2ca17a180786b69acc140d282b71a49"
   }
  }
 },
 "nbformat": 4,
 "nbformat_minor": 5
}
